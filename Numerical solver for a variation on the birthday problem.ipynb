{
 "cells": [
  {
   "cell_type": "markdown",
   "metadata": {},
   "source": [
    "## The problem\n",
    "Say *n* items are placed into one of *d* containers independently and according to a uniform probability distribution (i.e., the probability that any item is placed into a specific container is *1/d*). What value of n is needed so that the probability that at least *k* containers hold at least one item is at least *p*?\n",
    "\n",
    "(Thought of while being unable to sleep at ~2 AM a day or two ago.)"
   ]
  },
  {
   "cell_type": "code",
   "execution_count": 1,
   "metadata": {
    "collapsed": true
   },
   "outputs": [],
   "source": [
    "# want n! / ((n-k)!*k!) for integer n, k\n",
    "# simplifies to n*(n-1)*...*(n-(k-1)) / (k * (k-1) * ... * 1)\n",
    "def choose(n,k):\n",
    "    ntok = 1\n",
    "    ktok = 1\n",
    "    for i in range(1, min(k, n-k) + 1):\n",
    "        ntok *= n\n",
    "        ktok *= i\n",
    "        n -= 1\n",
    "    return ntok // ktok # integer divide\n",
    "\n"
   ]
  },
  {
   "cell_type": "markdown",
   "metadata": {},
   "source": [
    "## The math\n",
    "\n",
    "We will remove the number of unsatisfactory configurations from the total number of configurations (then divide by the total number of configurations).\n",
    "\n",
    "We have (n_total - n_bad) / (n_total) > p\n",
    "\n",
    "n_total = d^n.\n",
    "\n",
    "n_bad is the number of configurations where all *n* items fall into at most *(k-1)* containers. It doesn't matter which *(k-1)* containers out of the *d* possible containers are chosen.\n",
    "\n",
    "So n_bad = C(d,k-1) * (k-1)^n\n",
    "\n",
    "Simplifying and subtracting *p* from both sides, we get that the following function must be greater than zero:"
   ]
  },
  {
   "cell_type": "code",
   "execution_count": 2,
   "metadata": {
    "collapsed": false
   },
   "outputs": [],
   "source": [
    "def f(n, k, d, p):\n",
    "    return 1 - choose(d, k - 1) * (((k-1)/d))**n - p"
   ]
  },
  {
   "cell_type": "code",
   "execution_count": 3,
   "metadata": {
    "collapsed": true
   },
   "outputs": [],
   "source": [
    "# epsilon = tolerance for solving\n",
    "# step_rate = rate of increasing/decreasing step size # not using step_rate, need a better heuristic first\n",
    "# give initial estimate for n as well\n",
    "#\n",
    "# f should be of the form\n",
    "# (expression - probability) > 0\n",
    "# to ensure the final answer is sufficient (and not off-by-one)\n",
    "def solve_for_n(n, k, d, p, epsilon = 10**(-10), step_rate = 2, verbose = False):\n",
    "    cur = f(n,k,d,p)\n",
    "    stepno = 0\n",
    "    if cur < 0:\n",
    "        stepsize = 1\n",
    "    else:\n",
    "        stepsize = -1\n",
    "    prev = 0\n",
    "    n_olds = []\n",
    "    \n",
    "    while abs(cur) > epsilon or cur < 0: # want final value to be sufficient, so force cur > 0 before termination\n",
    "        if verbose:\n",
    "            print(\"Current values: n = {0}, cur = {1}, prev = {2}, stepsize = {3}\".format(n, cur, prev, stepsize))\n",
    "        \n",
    "        if cur < 0: # make positive step (n increase --> value increase)\n",
    "            stepsize = abs(stepsize)\n",
    "        else:\n",
    "            stepsize = -abs(stepsize)\n",
    "        \n",
    "        if n in n_olds and cur > 0: # cur > 0 ensures it's sufficient\n",
    "            break\n",
    "        \n",
    "        n_olds.append(n)\n",
    "        if len(n_olds) > 10:\n",
    "            n_olds.pop(0)\n",
    "\n",
    "        n = max(n + stepsize, k)\n",
    "        \n",
    "\n",
    "\n",
    "        \n",
    "        stepno += 1\n",
    "        \n",
    "        prev = cur\n",
    "        cur = f(n,k,d,p)\n",
    "        \n",
    "\n",
    "\n",
    "        \n",
    "#         if stepno > 100:\n",
    "#             break\n",
    "    \n",
    "    # out of loop; got to satisfactory answer\n",
    "    if verbose:\n",
    "        print(\"After {0} iterations, we have n = {1} for (k,d,p) = {2}\".format(stepno, n, (k,d,p)))\n",
    "    return n\n",
    "        \n",
    "\n",
    "def same_sign(a,b):\n",
    "    return (a<0 and b <0) or (a>=0 and b >=0)"
   ]
  },
  {
   "cell_type": "code",
   "execution_count": null,
   "metadata": {
    "collapsed": true
   },
   "outputs": [],
   "source": [
    "# play around with single values (part 1)\n",
    "\n",
    "\n",
    "n = 4000 # initial guess"
   ]
  },
  {
   "cell_type": "code",
   "execution_count": null,
   "metadata": {
    "collapsed": false
   },
   "outputs": [],
   "source": [
    "# play around with single values (part 2)\n",
    "\n",
    "k = 365 # want to cover 365 unique days\n",
    "d = 365 # number of possible locations\n",
    "p = 0.99999 # threshold probability desired\n",
    "\n",
    "n = solve_for_n(n,k,d,p, verbose = True)\n",
    "# f(n,k,d,p)"
   ]
  },
  {
   "cell_type": "code",
   "execution_count": 4,
   "metadata": {
    "collapsed": true
   },
   "outputs": [],
   "source": [
    "# quick'n'dirty float-range function\n",
    "def frange(start, stop, step):\n",
    "    while start < stop:\n",
    "        yield start\n",
    "        start += step"
   ]
  },
  {
   "cell_type": "code",
   "execution_count": 5,
   "metadata": {
    "collapsed": false
   },
   "outputs": [],
   "source": [
    "# collect (p,n) for p in [0.01, 0.99] with fixed d,k (365,365)\n",
    "# update our guess for n intelligently\n",
    "\n",
    "# n = 2000 # initial guess\n",
    "k = 365 # want to cover 365 unique days\n",
    "d = 365 # number of possible locations\n",
    "\n",
    "\n",
    "def collect_pn(d,k):\n",
    "    # first guess\n",
    "    n = k\n",
    "    pn_coords = []\n",
    "    \n",
    "    # sweep [0.001 - 0.01] and [0.99 - 1.00]\n",
    "    for p in frange(0.001, 0.01, 0.001):\n",
    "        n = solve_for_n(n,k,d,p)\n",
    "        pn_coords.append((p,n))\n",
    "    # sweep [0.01 - 0.99]\n",
    "    for p in frange(0.01, 0.99, 0.01):\n",
    "        n = solve_for_n(n,k,d,p)\n",
    "        pn_coords.append((p,n))\n",
    "    # sweep [0.99 - 0.999]\n",
    "    for p in frange(0.99, 1, 0.001):\n",
    "        n = solve_for_n(n,k,d,p)\n",
    "        pn_coords.append((p,n))\n",
    "    \n",
    "#     for p in range(1, 100, 1):\n",
    "#         p /= 100 # range from [0.01, 0.99] inclusive\n",
    "#         n = solve_for_n(n, k, d, p)\n",
    "#         pn_coords.append((p,n))\n",
    "    \n",
    "    return pn_coords\n",
    "        \n",
    "pn_coords = collect_pn(d,k)\n"
   ]
  },
  {
   "cell_type": "code",
   "execution_count": 6,
   "metadata": {
    "collapsed": true
   },
   "outputs": [],
   "source": [
    "ps, ns = [], []\n",
    "for e in pn_coords:\n",
    "    p,n = e\n",
    "    ps.append(p)\n",
    "    ns.append(n)"
   ]
  },
  {
   "cell_type": "code",
   "execution_count": 7,
   "metadata": {
    "collapsed": true
   },
   "outputs": [],
   "source": [
    "import matplotlib.pyplot as plt"
   ]
  },
  {
   "cell_type": "code",
   "execution_count": 8,
   "metadata": {
    "collapsed": false
   },
   "outputs": [
    {
     "data": {
      "image/png": "[encoded data removed]",
      "text/plain": [
       "<matplotlib.figure.Figure at 0x24c1b1de898>"
      ]
     },
     "metadata": {},
     "output_type": "display_data"
    }
   ],
   "source": [
    "plt.plot(ps, ns)\n",
    "plt.title(\"Likelihood of covering k = {0} entries with d = {1} possible holes.\".format(k, d))\n",
    "plt.xlabel('p')\n",
    "plt.ylabel('n')\n",
    "plt.show()"
   ]
  },
  {
   "cell_type": "markdown",
   "metadata": {},
   "source": [
    "These results are pretty counterintuitive, but they just go to show how intuition and probability scenarios tend to clash. It may be interesting to see how *n* responds to variations in *d* and *k*.\n",
    "\n",
    "### Disclaimer\n",
    "There may be a mistake in the math or in the implementation of the numerical solver. For smaller values of p and n especially (p < 0.01), the solver fails to converge to significantly smaller than p. (The results of the solver may simply imply that the sharp uptick in probability occurs right at n = 2150, but this claim is dubious without further explanation.) We unfortunately cannot track the value in which the probability stops being negligible (say p > 0.0001) or the function's initial behavior through the method implemented above.\n",
    "\n",
    "\\- DK"
   ]
  }
 ],
 "metadata": {
  "kernelspec": {
   "display_name": "Python 3",
   "language": "python",
   "name": "python3"
  },
  "language_info": {
   "codemirror_mode": {
    "name": "ipython",
    "version": 3
   },
   "file_extension": ".py",
   "mimetype": "text/x-python",
   "name": "python",
   "nbconvert_exporter": "python",
   "pygments_lexer": "ipython3",
   "version": "3.6.0"
  }
 },
 "nbformat": 4,
 "nbformat_minor": 2
}
