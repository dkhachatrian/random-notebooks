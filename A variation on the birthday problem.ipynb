{
 "cells": [
  {
   "cell_type": "markdown",
   "metadata": {},
   "source": [
    "# The problem\n",
    "Say $n$ items are placed into one of $D$ containers independently and according to a uniform probability distribution (i.e., the probability that any item is placed into a specific container is $\\frac{1}{D}$). What value of $n$ is needed so that the probability that at least $k$ containers hold at least one item is at least $p^{*}$?\n",
    "\n",
    "The above is a generalization of the original question: how many people are needed before there's at least a 50% chance that their birthdays cover all 365 days of the year?\n",
    "\n",
    "_Thought of while being unable to sleep at ~2 AM a few days before 6 July 2017. Solved while being unable to sleep at ~2 AM the morning of 4 Oct 2017. Writeup finished while being unable to sleep at ~2 AM the morning of 5 Oct 2017. How appropriate._\n",
    "\n",
    "## The math\n",
    "\n",
    "We have that\n",
    "\n",
    "$$p = \\frac{\\text{the total number of good states}}{\\text{the total number of possible states}} = \\frac{G(n,k;d)}{T(n,k;d)}$$\n",
    "\n",
    "It is important not to remove the degeneracy of configurations in this problem. In a sense, the degeneracy makes more probable configurations have more weight in determining the final probability. (As a toy example, if 990 mutually indistinguishable configurations satisfied a condition and 10 mutually distinct configurations did not satisfy that condition, we would say the probability of finding the system in a configuration that satisfies the condition to be $\\frac{990}{990+10} = \\frac{99}{100}$, not $\\frac{1}{1+10} = \\frac{1}{11}$.)\n",
    "\n",
    "\n",
    "One can make a mapping from all possible configurations (including redundancies) with $d$ containers and $n$ items to the leaves of a tree with a branch factor of $D$ and a height of $n$ (denoting the root of the tree to have height 0). Then $T(n,k;D)$ is simply the total number of leaves, or $D^n$.\n",
    "\n",
    "Instead of calculating $G$ directly, it would behoove us to calculate the number of configurations with *exactly* $k$ bins filled instead. Call this $g(n,k;D)$. <br>\n",
    "We can easily recover $G$ from $g$ by noting that\n",
    "$$ G(n,k;D) = \\sum_{i=k}^{D} g(n,i;D) $$\n",
    "\n",
    "So how do we calculate $g$? ~~We'll need to time the trajectories of falling objects and use Newton's Second Law.~~ <br>\n",
    "Well, let's suppose we know $g(x, y; D)$ for all $x < n, y \\in \\{0, 1, \\cdots, D\\}$ and we want to know what interesting things can happen when we place the $n^{\\text{th}}$ element.\n",
    "- If a configuration with $n-1$ elements is already contained entirely within $k$ bins, we can place the $n^{\\text{th}}$ element in any of the $k$ currently occupied bins. There are $g(n-1, k; D)$ such configurations.\n",
    "- If a configuration with $n-1$ elements is contained within exactly $k-1$ bins, then if we place the $n^{\\text{th}}$ element in any of the $D-(k-1) = D - k + 1$ currently vacant bins, then we will have just reached our desired target of $k$ occupied bins. There are $g(n-1, k-1; D)$ such configurations.\n",
    "- We only have one element to place, so we can only either increase the total number of satisfied bins by one or by zero. So any configurations accounted for in $\\{g(n-1, y; D)\\; | \\;y \\notin \\{k-1, k\\}\\} $ cannot contribute to $g(n, k; D)$.\n",
    "\n",
    "Obviously we can't satisfy the requirement if $n < k$, so $g(n<k) = 0$. Also, if $n > 0$, at least one bin must contain an item, so $g(n \\neq 0, k = 0) = 0$. Finally, when $n = k$, we can place the $n$ items in any $k$ of the $D$ containers to satisfy the requirement, so\n",
    "$$ g(n = k; D) = D \\times (D-1) \\times \\cdots \\times (D - (k-1)) = \\frac{D!}{(d-k)!} = P(D, k) $$\n",
    "\n",
    "where $P$ is the permutation function.\n",
    "\n",
    "Putting it all together, we have the following recurrence relation for g:\n",
    "\n",
    "$$ g(n, k; D) = k*g(n-1,k;D) + (D-k+1) * g(n-1, k-1; D), \\\\\n",
    "\\quad g(n<k) = 0, \\quad g(n \\neq 0, k = 0) = 0, \\quad g(n = k; D) = \\frac{D!}{(d-k)!}$$\n",
    "\n",
    "We can calculate the values for g via dynamic programming, then calculate $G$ from the rows of g, and finally calculate $p$ and see how it relates to $p^{*}$ to determine when we've found our answer. This method runs in $O(Dn)$ time.\n",
    "\n",
    "<br>\n",
    "Worth noting is that we've essentially calculated the multinomial distribution for a specific number of dividend factors $D$ in $O(Dn)$ time:\n",
    "$$ MN(n;D) = \\frac{n!}{\\prod_{i=1}^{D} n_{i}!}; \\quad 0 \\leq n_{i} \\leq n \\; \\forall \\, i; \\quad \\sum_{i} n_{i} = n $$ \n",
    "\n",
    "Which is way better than having gone through and calculated them all individually. (Probably worth avoiding algorithms with $\\omega(D^n)$ complexity for the time being.)\n",
    "\n",
    "Alright, with that, I've paid my mathematical dues. Onward to the code-y stuff.\n",
    "\n",
    "## The code"
   ]
  },
  {
   "cell_type": "code",
   "execution_count": 1,
   "metadata": {
    "collapsed": true
   },
   "outputs": [],
   "source": [
    "def permute(d,k):\n",
    "    prod = 1\n",
    "    for x in range(0, k):\n",
    "        prod *= (d-x)\n",
    "    return prod"
   ]
  },
  {
   "cell_type": "code",
   "execution_count": 2,
   "metadata": {
    "collapsed": true
   },
   "outputs": [],
   "source": [
    "start_marker = 'n_start'\n",
    "end_marker = 'n_end'\n",
    "bins_marker = 'D'\n",
    "lean_cache_width = 2"
   ]
  },
  {
   "cell_type": "code",
   "execution_count": 3,
   "metadata": {
    "collapsed": true
   },
   "outputs": [],
   "source": [
    "# def memoize(f):\n",
    "#     cache = {}\n",
    "#     def memoized_func(*args, **kwargs):\n",
    "#         if args not in cache:\n",
    "#             cache[args] = f(*args)\n",
    "#         return cache[args]\n",
    "#     memoized_func.cache = cache\n",
    "    \n",
    "#     return memoized_func\n",
    "\n",
    "# # @memoize\n",
    "# # Because of the not-so-great nature of recursion in Python,\n",
    "# # will implement the solution via filling a 2D array (in reality, a dictionary)\n",
    "def calc_g(N, D, lean = True, old_answers = None):\n",
    "    \"\"\"\n",
    "    For all values (n <= N, k <= D), calculate the number of configurations where x elements\n",
    "    fall into exactly k of the D containers.\n",
    "    Returns a dictionary of (n,k) -> # of configurations.\n",
    "    \n",
    "    An object passed into old_answers is checked to see if it is a dictionary\n",
    "    whose value for the key bins_marker matches that of the parameter D.\n",
    "    If so, will assume the answers in the dictionary are accurate and continue from where it left off\n",
    "    by checking its start_marker and end_marker entries (which must also exist).\n",
    "    \n",
    "    If lean is True, the cache dictionary will only use O(1) memory.\n",
    "    (Subsequent calls to this function for n <= N will not be able to use the cache dict.)\n",
    "    \"\"\"\n",
    "    answers = {}\n",
    "    n_start = 0\n",
    "    try:\n",
    "        assert old_answers[bins_marker] == D\n",
    "        assert old_answers[start_marker] <= N\n",
    "        if old_answers[end_marker] >= N:\n",
    "            return old_answers\n",
    "        answers = old_answers\n",
    "    except:\n",
    "        # old dict not useful; start from scratch\n",
    "        answers = {bins_marker: D, start_marker: 0 - lean_cache_width+1, end_marker: 0}\n",
    "    finally:\n",
    "        # if we're here, we got to go past where the last valid answers dict reached\n",
    "        try:\n",
    "            n_start = answers[end_marker] + 1 # need to calculate values of n > answers[end_marker]\n",
    "        except:\n",
    "            pdb.set_trace()\n",
    "        answers[end_marker] = N # will be true by end of function call\n",
    "    \n",
    "    for n in range(n_start, N+1):\n",
    "        for k in range(0, D+1):\n",
    "            if k == 0 or n < k:\n",
    "                answers[(n,k)] = 0\n",
    "            elif n == k:\n",
    "                answers[(n,k)] = permute(D,k)\n",
    "            else:\n",
    "                answers[(n,k)] = (D-k+1)*answers[(n-1,k-1)] + k*answers[(n-1,k)]\n",
    "            if lean:\n",
    "                answers.pop((n-lean_cache_width, k-1), None)\n",
    "        if lean:\n",
    "            answers[start_marker] += 1\n",
    "            answers.pop((n-lean_cache_width, D), None)\n",
    "    \n",
    "    \n",
    "    \n",
    "    return answers"
   ]
  },
  {
   "cell_type": "code",
   "execution_count": 4,
   "metadata": {
    "collapsed": false,
    "scrolled": true
   },
   "outputs": [],
   "source": [
    "def calc_p(n, k, D, answers):\n",
    "    return (sum(answers[(n,x)] for x in range(k, D+1)) / (D**n))\n",
    "\n",
    "\n",
    "def search_in_answers(p, k, D, answers):\n",
    "    \"\"\"\n",
    "    Assuming there exists an n whose values are cached in the answers dict such that \n",
    "    calc_p(n-1, k, D, answers) < p and calc_p(n,k,D, answers) >= p,\n",
    "    returns this value n.\n",
    "    \n",
    "    If this specific value n is not in answers, throws an AssertionError.\n",
    "    \"\"\"\n",
    "    # binary search\n",
    "    left = answers[start_marker]\n",
    "    # ensure we'll find a valid answer\n",
    "    assert calc_p(left, k, D, answers) < p\n",
    "    right = answers[end_marker]\n",
    "    \n",
    "    diff = (right - left) // 2\n",
    "    \n",
    "    while (right - left) != 1:\n",
    "        if calc_p(left + diff, k, D, answers) < p:\n",
    "            left += diff\n",
    "            diff = (right - left) // 2\n",
    "        if calc_p(right - diff, k, D, answers) >= p:\n",
    "            right -= diff\n",
    "            diff = (right - left) // 2\n",
    "    # will exit loop when diff = 1\n",
    "    # at this point, right has the answer\n",
    "    return right\n",
    "    \n",
    "    \n",
    "# @time_function\n",
    "def find_n(p, k, D, lean = True, old_answers = {}):\n",
    "    \"\"\"\n",
    "    Find the the minimum number needed to have probability at least p that *at least* k (of D) bins have one item.\n",
    "    Pass in an old_answers array to potentially save time (calc_g will perform the check).\n",
    "    If lean is False, \n",
    "        returns (n, answers), the desired number and the cached answer dictionary.\n",
    "    If lean is True,\n",
    "        answers will only contain the values corresponding to n and (n-1).\n",
    "        (This is best left True for large D and p approaching 1. \n",
    "        Otherwise, the function is liable to eat up all your RAM.\n",
    "        You've been warned!)\n",
    "    \"\"\"\n",
    "    if k > D:\n",
    "        print(\"k = {0} is not allowed to be greater than D = {1}. Please try again.\".format(k, D))\n",
    "        return -1, {}\n",
    "    \n",
    "    answers = {}\n",
    "    try:\n",
    "        assert old_answers[bins_marker] == D\n",
    "        answers = old_answers\n",
    "        n_cur = answers[end_marker]\n",
    "        if p < calc_p(n_cur,k,D,answers): # answer already in answers dict\n",
    "            n_cur = search_in_answers(p, k, D, answers) # find it\n",
    "            return n_cur, answers\n",
    "    except:\n",
    "        pass\n",
    "    finally:\n",
    "        n_cur = k # least possible value\n",
    "\n",
    "    \n",
    "    p_cur = 0\n",
    "    while p_cur < p:\n",
    "        answers = calc_g(n_cur, D, old_answers = answers)\n",
    "        p_cur = calc_p(n_cur,k,D,answers)\n",
    "        if lean:\n",
    "            n_cur += 1 # only using finite space; need to be conservative\n",
    "        else:\n",
    "            n_cur *= 2\n",
    "    # out of loop; our desired value must be in answers\n",
    "    return search_in_answers(p, k, D, answers), answers\n",
    "    "
   ]
  },
  {
   "cell_type": "code",
   "execution_count": 5,
   "metadata": {
    "collapsed": false
   },
   "outputs": [],
   "source": [
    "# for curiosity's sake\n",
    "def time_function(f, show_dict = False):\n",
    "    def func_results(*args, **kwargs):\n",
    "        # quick 'n' dirty; not removing the time elapsed for timeit.time() function call\n",
    "        start = timeit.time.time()\n",
    "        results = f(*args, **kwargs)\n",
    "        end = timeit.time.time()\n",
    "        \n",
    "        print(\"{0} took {1} seconds to run.\".format(f.__name__, end - start))\n",
    "#         print(\"It was given the parameters {0}\".format((*args, kwargs)))\n",
    "        return results\n",
    "    return func_results"
   ]
  },
  {
   "cell_type": "markdown",
   "metadata": {},
   "source": [
    "Alright, that should do it. Let's do a quick test that would be small enough to check by hand:"
   ]
  },
  {
   "cell_type": "code",
   "execution_count": 6,
   "metadata": {
    "collapsed": false,
    "scrolled": true
   },
   "outputs": [
    {
     "name": "stdout",
     "output_type": "stream",
     "text": [
      "n = 3\n"
     ]
    }
   ],
   "source": [
    "n, answers = find_n(p = 0.7, k = 2, D = 3, lean = True)\n",
    "print('n = {0}'.format(n))"
   ]
  },
  {
   "cell_type": "markdown",
   "metadata": {},
   "source": [
    "And let's answer my original question (or at least a simplified form where people's birthdays are uniformly distributed -- see the end of this notebook for elaboration):"
   ]
  },
  {
   "cell_type": "code",
   "execution_count": 7,
   "metadata": {
    "collapsed": false
   },
   "outputs": [
    {
     "name": "stdout",
     "output_type": "stream",
     "text": [
      "n = 2287\n"
     ]
    }
   ],
   "source": [
    "n, answers = find_n(p = 0.5, k = 365, D = 365, lean = True)\n",
    "print('n = {0}'.format(n))"
   ]
  },
  {
   "cell_type": "markdown",
   "metadata": {},
   "source": [
    "Neat.\n",
    "\n",
    "For fun, let's sweep out a graph for the number of people needed to reach a threshold probability that their birthdays cover all 365 days of the year, ignoring February 29. (No offense! Though the existence of February 29 raises some interesting questions regarding non-uniform distributions -- again, see the end of this notebook.) So let's set k = D = 365 and see what kind of plot we get!"
   ]
  },
  {
   "cell_type": "code",
   "execution_count": 8,
   "metadata": {
    "collapsed": true
   },
   "outputs": [],
   "source": [
    "# not going to worry about possible floating-point shenanigans\n",
    "def frange(a, b, step):\n",
    "    while a < b:\n",
    "        yield a\n",
    "        a += step"
   ]
  },
  {
   "cell_type": "code",
   "execution_count": 9,
   "metadata": {
    "collapsed": false
   },
   "outputs": [],
   "source": [
    "def collect_pn(k, D):\n",
    "    p_coords, n_coords = [], []\n",
    "    answers = {}\n",
    "    \n",
    "    arg_dict = {'k': k, 'D': D, 'answers': answers, 'p_coords': p_coords, 'n_coords': n_coords}\n",
    "    \n",
    "    def sweep_p(a, b, step, kw_dict):\n",
    "        for p in frange(a, b, step):\n",
    "            n, answers = find_n(p, kw_dict['k'], kw_dict['D'], old_answers = kw_dict['answers'])\n",
    "            kw_dict['answers'] = answers\n",
    "            kw_dict['p_coords'].append(p), kw_dict['n_coords'].append(n)\n",
    "    \n",
    "    sweep_p(0.001, 0.0099, 0.001, arg_dict)\n",
    "    sweep_p(0.01, 0.99, 0.01, arg_dict)\n",
    "    sweep_p(0.99, 0.9999, 0.001, arg_dict)\n",
    "    \n",
    "    return arg_dict['p_coords'], arg_dict['n_coords']\n",
    "\n",
    "D = 365\n",
    "frac = 1\n",
    "k = int(frac*D)\n",
    "\n",
    "p_coords, n_coords = collect_pn(k,D)\n"
   ]
  },
  {
   "cell_type": "code",
   "execution_count": 10,
   "metadata": {
    "collapsed": false,
    "scrolled": true
   },
   "outputs": [
    {
     "data": {
      "image/png": "[encoded data removed]",
      "text/plain": [
       "<matplotlib.figure.Figure at 0x20ea113b588>"
      ]
     },
     "metadata": {},
     "output_type": "display_data"
    }
   ],
   "source": [
    "import matplotlib.pyplot as plt\n",
    "\n",
    "plt.plot(n_coords, p_coords)\n",
    "plt.title(\"Covering at least k = {0} of D = {1} containers (assuming a uniform random distribution).\".format(k, D))\n",
    "plt.xlabel('n, the number of people needed')\n",
    "plt.ylabel('p, probability')\n",
    "plt.show()"
   ]
  },
  {
   "cell_type": "markdown",
   "metadata": {},
   "source": [
    "(I wonder what the ensemble of configurations looks like near $n \\approx 1600$ for the probability to shoot up after that value.)"
   ]
  },
  {
   "cell_type": "markdown",
   "metadata": {},
   "source": [
    "# Some closing thoughts\n",
    "\n",
    "The existence of February 29 (occurring $\\frac{1}{4}$ as often as any other calendar day) raises the question of how to generalize this to non-uniform distributions. (Also, practically speaking, even notwithstanding February 29, this model wouldn't apply to my birthday question in its current form -- the distribution of people's birthdays contains bumps nine months after holidays like New Year's Eve and Valentine's Day among other non-uniformities.) My immediate thought is that we'd have to count the number of configurations wherein a distinct set of containers (with different probabilities) hold the threshold number of elements (1, for our purposes so far), and weight each such configuration based on their frequency relative to the least likely container. But something tells me it might be slightly more complicated than that. <br>\n",
    "Another question is how to generalize our solution, except that at least $m$ elements must be in the at least $k$ containers. Would we be able to simply expand our dynamic programming algorithm to go along the $m$ dimension as well, or is there something dubious behind that thought process?<br>\n",
    "\n",
    "So many interesting things to explore!\n",
    "\n",
    "\\- DK"
   ]
  }
 ],
 "metadata": {
  "kernelspec": {
   "display_name": "Python 3",
   "language": "python",
   "name": "python3"
  },
  "language_info": {
   "codemirror_mode": {
    "name": "ipython",
    "version": 3
   },
   "file_extension": ".py",
   "mimetype": "text/x-python",
   "name": "python",
   "nbconvert_exporter": "python",
   "pygments_lexer": "ipython3",
   "version": "3.6.0"
  }
 },
 "nbformat": 4,
 "nbformat_minor": 2
}
