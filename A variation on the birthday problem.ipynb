{
 "cells": [
  {
   "cell_type": "markdown",
   "metadata": {},
   "source": [
    "# NOTE\n",
    "Unfortunately, the math is still off. I am aware of the naive method of going through the multinomial distribution and summing probabilities, but I am aiming for an efficient (read: polynomial-time) algorithm so that the answers could actually be computed. Unfortunately, though counting the number of satisfactory configurations and total number of configurations is fairly simple, determining the weight for each configuration is more difficult (as they depend on the number of elements in each bin).\n",
    "\n",
    "Still thinking..."
   ]
  },
  {
   "cell_type": "markdown",
   "metadata": {},
   "source": [
    "## The problem\n",
    "Say *n* items are placed into one of *d* containers independently and according to a uniform probability distribution (i.e., the probability that any item is placed into a specific container is $\\frac{1}{d}$). What value of n is needed so that the probability that at least *k* containers hold at least one item is at least *p*?\n",
    "\n",
    "(Thought of while being unable to sleep at ~2 AM a day or two ago.)"
   ]
  },
  {
   "cell_type": "markdown",
   "metadata": {},
   "source": [
    "## The math\n",
    "\n",
    "We have that\n",
    "\n",
    "$$p = \\frac{G\\text{, the total number of good states}}{T\\text{, the total number of possible states}}$$\n",
    "\n",
    "\n",
    "It is important not to remove the degeneracy of configurations in this problem. In a sense, the degeneracy makes more probable configurations have more weight in determining the final probability. (As a toy example, if 990 mutually indistinguishable configurations satisfied a condition and 10 mutually distinct configurations did not satisfy that condition, we would say the probability of finding the system in a configuration that satisfies the condition to be $\\frac{990}{990+10} = \\frac{99}{100}$, not $\\frac{1}{1+10} = \\frac{1}{11}$.)\n",
    "\n",
    "With this warning in mind, $T = T(n;k,d)$ is simply calculated as $d^n$.\n",
    "\n",
    "$G = G(n;k,d)$ is slightly more complicated. The search for a closed-form expression for $G$ (or $p$) will easily swallow time and incite headaches. [I've probably tried to do so for a day's worth of man-hours.] Instead, we calculate $G$ using dynamic programming. That is:\n",
    "\n",
    "$$ $$\n",
    "\n",
    "// write formula, explain in words\n",
    "\n",
    "// explain probability formulation (of dividing recurrence relation by d)\n",
    "\n"
   ]
  },
  {
   "cell_type": "markdown",
   "metadata": {},
   "source": [
    "Worth noting is the conditional probability of a specific placement of items following a multinomial distribution.\n",
    "If we have $n$ total items, then\n",
    "$$ MN(x_1, x_2, \\cdots, x_{d-1} \\mid x_d = m; n) = MN(x_1, x_2, \\cdots, x_{d-1}; n - m) \\times Pr[m\\text{ items in bin } d]$$\n",
    "$$ = MN(x_1, x_2, \\cdots, x_{d-1}; n - m) \\times \\left(\\frac{1}{d}\\right)^m$$\n"
   ]
  },
  {
   "cell_type": "code",
   "execution_count": 6,
   "metadata": {
    "collapsed": true
   },
   "outputs": [],
   "source": [
    "from functools import partial # to later simplify p"
   ]
  },
  {
   "cell_type": "code",
   "execution_count": 27,
   "metadata": {
    "collapsed": true
   },
   "outputs": [],
   "source": [
    "def permute(n,k):\n",
    "    prod = 1\n",
    "    for x in range(k+1, n+1):\n",
    "        prod *= x\n",
    "    return prod\n",
    "\n",
    "def init_val(d,k):\n",
    "    prod = 1\n",
    "    for x in range(k):\n",
    "        prod *= ((d-x)/d)\n",
    "    return prod"
   ]
  },
  {
   "cell_type": "code",
   "execution_count": 28,
   "metadata": {
    "collapsed": true
   },
   "outputs": [],
   "source": [
    "def solve_birthday_problem(k, d, p, n_max = 100000):\n",
    "    \"\"\"\n",
    "    Returns the minimum value of n that satisfies the 'birthday variant' given the supplied parameters,\n",
    "    unless the true answer n > n_max, in which case, returns p(n_max,k,d)\n",
    "    \"\"\"\n",
    "\n",
    "    # We do not know which value n will satisfy our desired threshold probability\n",
    "    # so creating a fixed-size n-by-k array of solutions does not make sense\n",
    "    # It would also be nice to cap our runtime in case n is a huge number\n",
    "    # for memory concerns\n",
    "    # Hence, we implement DP using memoization\n",
    "\n",
    "    print(\"We are solving for k={0}, d={1}, p={2}\".format(k,d,p))\n",
    "    \n",
    "    nk2p = {} # keys = (n,k); values = p; we'll also put the value of d in for completeness\n",
    "\n",
    "    #nkd2p = {}\n",
    "\n",
    "    def prob(n, k, d):\n",
    "        if (n,k) in nk2p:\n",
    "            return nk2p[(n,k)]\n",
    "        else:\n",
    "            if k <= 1 and n >= 0:\n",
    "                nk2p[(n,k)] = 1\n",
    "            elif n < k:\n",
    "                nk2p[(n,k)] = 0\n",
    "            elif n == k:\n",
    "                nk2p[(n,k)] = init_val(d,k)\n",
    "            else:\n",
    "                nk2p[(n,k)] = prob(n-1, k, d) + (1 - (k-1)/d) * prob(n-1,k-1,d)\n",
    "        return nk2p[(n,k)]\n",
    "    \n",
    "    # for \"labeling\" purposes\n",
    "    nk2p['d'] = d\n",
    "    \n",
    "#     make a partial (quicker(?))\n",
    "#     error when called recursively (?)\n",
    "#     prob = partial(prob, d = d)\n",
    "    \n",
    "    for x in range(n_max+1):\n",
    "        if prob(x, k, d) >= p:\n",
    "            print(\"The answer is n = {0}. p(n, k, d) = {1}\".format(x, prob(x,k,d)))\n",
    "            return x\n",
    "    # wasn't in range...\n",
    "    print(\"True answer is larger than n_max = {0}. p(n_max, k, d)={1}\".format(n_max,prob(n_max,k,d)))\n",
    "    \n"
   ]
  },
  {
   "cell_type": "code",
   "execution_count": 37,
   "metadata": {
    "collapsed": true
   },
   "outputs": [],
   "source": [
    "# for testing purposes\n",
    "nk2p = {}\n",
    "def prob(n, k, d):\n",
    "    if (n,k) in nk2p:\n",
    "        return nk2p[(n,k)]\n",
    "    else:\n",
    "        if k <= 1 and n >= 0:\n",
    "            nk2p[(n,k)] = 1\n",
    "        elif n < k:\n",
    "            nk2p[(n,k)] = 0\n",
    "        elif n == k:\n",
    "            nk2p[(n,k)] = init_val(d,k)\n",
    "        else:\n",
    "            nk2p[(n,k)] = prob(n-1, k, d) + (1 - (k-1)/d) * prob(n-1,k-1,d)\n",
    "    return nk2p[(n,k)]"
   ]
  },
  {
   "cell_type": "code",
   "execution_count": 49,
   "metadata": {
    "collapsed": true
   },
   "outputs": [],
   "source": [
    "def permute(n,k):\n",
    "    prod = 1\n",
    "    for x in range(k+1, n+1):\n",
    "        prod *= x\n",
    "    return prod"
   ]
  },
  {
   "cell_type": "code",
   "execution_count": 73,
   "metadata": {
    "collapsed": true
   },
   "outputs": [],
   "source": [
    "# for testing purposes\n",
    "nk2g = {}\n",
    "def g(n, k, d):\n",
    "    c = (n,k)\n",
    "    if c in nk2g:\n",
    "        return nk2g[c]\n",
    "    else:\n",
    "        if k == 1:\n",
    "            nk2g[c] = d**(1-n) #can choose any one bin, then rest must be in bin\n",
    "        elif n < k:\n",
    "            nk2g[c] = 0 # not enough items\n",
    "        elif n == k:\n",
    "            nk2g[c] =(permute(d,k) * (k**(n-k))) / d**n #any k bins, rest of items can go wherever in those k bins\n",
    "        else:\n",
    "            nk2g[c] = (k * g(n-1, k, d) + (d - (k-1)) * g(n-1, k-1, d)) / d\n",
    "    return nk2g[c]\n",
    "\n",
    "def G(n,k,d):\n",
    "    return sum(g(n, i, d) for i in range(k, d+1))\n",
    "\n",
    "# def pr(n,k,d):\n",
    "#     return G(n,k,d) / d**n\n"
   ]
  },
  {
   "cell_type": "code",
   "execution_count": 74,
   "metadata": {},
   "outputs": [
    {
     "data": {
      "text/plain": [
       "1.2627200000000007"
      ]
     },
     "execution_count": 74,
     "metadata": {},
     "output_type": "execute_result"
    }
   ],
   "source": [
    "k, d, p = 4, 5, 0.5\n",
    "G(100, k, d)"
   ]
  },
  {
   "cell_type": "code",
   "execution_count": 75,
   "metadata": {
    "collapsed": true
   },
   "outputs": [],
   "source": [
    "def prob(n,k,d):\n",
    "    prod = 1\n",
    "    for i in range(k):\n",
    "        prod *= ((n-i)/(n-i+d-1))\n",
    "    return prod\n"
   ]
  },
  {
   "cell_type": "code",
   "execution_count": 87,
   "metadata": {
    "collapsed": true
   },
   "outputs": [],
   "source": [
    "def factorial(n):\n",
    "    prod = 1\n",
    "    for i in range(1,n+1):\n",
    "        prod *= i\n",
    "    return prod"
   ]
  },
  {
   "cell_type": "code",
   "execution_count": 88,
   "metadata": {},
   "outputs": [
    {
     "name": "stdout",
     "output_type": "stream",
     "text": [
      "0.3333333333333333\n",
      "0.5\n"
     ]
    }
   ],
   "source": [
    "k, d, p = 2, 2, 0.5\n",
    "n = 2\n",
    "print(prob(n, k, d))\n",
    "print(factorial(n)/(d**n))"
   ]
  },
  {
   "cell_type": "code",
   "execution_count": 21,
   "metadata": {
    "collapsed": true
   },
   "outputs": [],
   "source": [
    "# try-except-finally method for prob\n",
    "# too large a recursive whole it seems...\n",
    "def prob_tef(n, k, d):\n",
    "    try:\n",
    "        return nk2p[(n,k)]\n",
    "    except KeyError:\n",
    "        if k <= 1 and n >= 0:\n",
    "            nk2p[(n,k)] = 1\n",
    "        elif n < k:\n",
    "            nk2p[(n,k)] = 0\n",
    "        elif n == k:\n",
    "            nk2p[(n,k)] = d**(-k) * permute(d,k)\n",
    "        else:\n",
    "            nk2p[(n,k)] = prob(n-1, k, d) + (1 - (k-1)/d) * prob(n-1,k-1,d)\n",
    "    finally:\n",
    "        return nk2p[(n,k)]"
   ]
  },
  {
   "cell_type": "code",
   "execution_count": 29,
   "metadata": {},
   "outputs": [
    {
     "name": "stdout",
     "output_type": "stream",
     "text": [
      "We are solving for k=365, d=365, p=0.5\n",
      "The answer is n = 563. p(n, k, d) = 1.2042725276996924\n"
     ]
    },
    {
     "data": {
      "text/plain": [
       "563"
      ]
     },
     "execution_count": 29,
     "metadata": {},
     "output_type": "execute_result"
    }
   ],
   "source": [
    "k, d, p = 365, 365, 0.5\n",
    "\n",
    "solve_birthday_problem(k,d,p)"
   ]
  },
  {
   "cell_type": "code",
   "execution_count": 7,
   "metadata": {
    "collapsed": true
   },
   "outputs": [],
   "source": [
    "# collect (p,n) for p in [0.01, 0.99] with fixed d,k (365,365)\n",
    "# update our guess for n intelligently\n",
    "\n",
    "# n = 2000 # initial guess\n",
    "k = 365 # want to cover 365 unique days\n",
    "d = 365 # number of possible locations\n",
    "\n",
    "\n",
    "def collect_pn(d,k):\n",
    "    # first guess\n",
    "    n = k\n",
    "    pn_coords = []\n",
    "    \n",
    "    # sweep [0.001 - 0.01]\n",
    "    for p in frange(0.001, 0.01, 0.001):\n",
    "        n = solve_for_n(n,k,d,p)\n",
    "        pn_coords.append((p,n))\n",
    "    # sweep [0.01 - 0.99]\n",
    "    for p in frange(0.01, 0.99, 0.01):\n",
    "        n = solve_for_n(n,k,d,p)\n",
    "        pn_coords.append((p,n))\n",
    "    # sweep [0.99 - 0.999]\n",
    "    for p in frange(0.99, 1, 0.001):\n",
    "        n = solve_for_n(n,k,d,p)\n",
    "        pn_coords.append((p,n))\n",
    "    \n",
    "#     for p in range(1, 100, 1):\n",
    "#         p /= 100 # range from [0.01, 0.99] inclusive\n",
    "#         n = solve_for_n(n, k, d, p)\n",
    "#         pn_coords.append((p,n))\n",
    "    \n",
    "    return pn_coords\n",
    "        \n",
    "pn_coords = collect_pn(d,k)\n"
   ]
  },
  {
   "cell_type": "code",
   "execution_count": 8,
   "metadata": {
    "collapsed": true
   },
   "outputs": [],
   "source": [
    "ps, ns = [], []\n",
    "for e in pn_coords:\n",
    "    p,n = e\n",
    "    ps.append(p)\n",
    "    ns.append(n)"
   ]
  },
  {
   "cell_type": "code",
   "execution_count": 9,
   "metadata": {
    "collapsed": true
   },
   "outputs": [],
   "source": [
    "import matplotlib.pyplot as plt"
   ]
  },
  {
   "cell_type": "code",
   "execution_count": 10,
   "metadata": {},
   "outputs": [
    {
     "data": {
      "image/png": "[encoded data removed]",
      "text/plain": [
       "<matplotlib.figure.Figure at 0x18ed2809a90>"
      ]
     },
     "metadata": {},
     "output_type": "display_data"
    }
   ],
   "source": [
    "plt.plot(ps, ns)\n",
    "plt.title(\"Likelihood of covering k = {0} entries with d = {1} possible holes.\".format(k, d))\n",
    "plt.xlabel('p')\n",
    "plt.ylabel('n')\n",
    "plt.show()"
   ]
  },
  {
   "cell_type": "markdown",
   "metadata": {},
   "source": [
    "These results are pretty counterintuitive, but they just go to show how intuition and probability scenarios tend to clash. It may be interesting to see how *n* responds to variations in *d* and *k*.\n",
    "\n",
    "### Disclaimer\n",
    "There may be a mistake in the math or in the implementation of the numerical solver. For smaller values of p and n especially (p < 0.01), the solver fails to converge to significantly smaller than p. (The results of the solver may simply imply that the sharp uptick in probability occurs right at n = 2150, but this claim is dubious without further explanation.) We unfortunately cannot track the value in which the probability stops being negligible (say p > 0.0001) or the function's initial behavior through the method implemented above.\n",
    "\n",
    "\\- DK"
   ]
  },
  {
   "cell_type": "code",
   "execution_count": 17,
   "metadata": {
    "collapsed": true
   },
   "outputs": [],
   "source": [
    "import math"
   ]
  },
  {
   "cell_type": "code",
   "execution_count": 26,
   "metadata": {
    "collapsed": true
   },
   "outputs": [],
   "source": [
    "def factorial(n):\n",
    "    prod = 1\n",
    "    for x in range(1, n+1):\n",
    "        prod *= x\n",
    "    return prod"
   ]
  },
  {
   "cell_type": "code",
   "execution_count": 28,
   "metadata": {
    "collapsed": true
   },
   "outputs": [],
   "source": [
    "def g(n, k, d):\n",
    "    return 1 - choose(d, k - 1) * (((k-1)/d))**n"
   ]
  },
  {
   "cell_type": "code",
   "execution_count": 29,
   "metadata": {},
   "outputs": [
    {
     "ename": "OverflowError",
     "evalue": "int too large to convert to float",
     "output_type": "error",
     "traceback": [
      "\u001b[0;31m-----------------------------------------------------------------------\u001b[0m",
      "\u001b[0;31mOverflowError\u001b[0m                         Traceback (most recent call last)",
      "\u001b[0;32m<ipython-input-29-5704b56cbdf5>\u001b[0m in \u001b[0;36m<module>\u001b[0;34m()\u001b[0m\n\u001b[1;32m      3\u001b[0m \u001b[0md\u001b[0m \u001b[1;33m=\u001b[0m \u001b[1;36m365\u001b[0m\u001b[1;33m\u001b[0m\u001b[0m\n\u001b[1;32m      4\u001b[0m \u001b[1;33m\u001b[0m\u001b[0m\n\u001b[0;32m----> 5\u001b[0;31m \u001b[0mg\u001b[0m\u001b[1;33m(\u001b[0m\u001b[0mn\u001b[0m\u001b[1;33m,\u001b[0m\u001b[0mk\u001b[0m\u001b[1;33m,\u001b[0m\u001b[0md\u001b[0m\u001b[1;33m)\u001b[0m\u001b[1;33m\u001b[0m\u001b[0m\n\u001b[0m\u001b[1;32m      6\u001b[0m \u001b[1;31m# factorial(n)\u001b[0m\u001b[1;33m\u001b[0m\u001b[1;33m\u001b[0m\u001b[0m\n",
      "\u001b[0;32m<ipython-input-28-bd6dae793f00>\u001b[0m in \u001b[0;36mg\u001b[0;34m(n, k, d)\u001b[0m\n\u001b[1;32m      1\u001b[0m \u001b[1;32mdef\u001b[0m \u001b[0mg\u001b[0m\u001b[1;33m(\u001b[0m\u001b[0mn\u001b[0m\u001b[1;33m,\u001b[0m \u001b[0mk\u001b[0m\u001b[1;33m,\u001b[0m \u001b[0md\u001b[0m\u001b[1;33m)\u001b[0m\u001b[1;33m:\u001b[0m\u001b[1;33m\u001b[0m\u001b[0m\n\u001b[0;32m----> 2\u001b[0;31m     \u001b[1;32mreturn\u001b[0m \u001b[1;36m1\u001b[0m \u001b[1;33m-\u001b[0m \u001b[0mchoose\u001b[0m\u001b[1;33m(\u001b[0m\u001b[0md\u001b[0m\u001b[1;33m,\u001b[0m \u001b[0mk\u001b[0m \u001b[1;33m-\u001b[0m \u001b[1;36m1\u001b[0m\u001b[1;33m)\u001b[0m \u001b[1;33m*\u001b[0m \u001b[1;33m(\u001b[0m\u001b[1;33m(\u001b[0m\u001b[1;33m(\u001b[0m\u001b[0mk\u001b[0m\u001b[1;33m-\u001b[0m\u001b[1;36m1\u001b[0m\u001b[1;33m)\u001b[0m\u001b[1;33m/\u001b[0m\u001b[0md\u001b[0m\u001b[1;33m)\u001b[0m\u001b[1;33m)\u001b[0m\u001b[1;33m**\u001b[0m\u001b[0mn\u001b[0m \u001b[1;33m//\u001b[0m \u001b[0mfactorial\u001b[0m\u001b[1;33m(\u001b[0m\u001b[0mn\u001b[0m\u001b[1;33m)\u001b[0m\u001b[1;33m\u001b[0m\u001b[0m\n\u001b[0m",
      "\u001b[0;31mOverflowError\u001b[0m: int too large to convert to float"
     ]
    }
   ],
   "source": [
    "n = 365\n",
    "k = 365\n",
    "d = 365\n",
    "\n",
    "g(n,k,d)\n",
    "# factorial(n)"
   ]
  },
  {
   "cell_type": "code",
   "execution_count": 1,
   "metadata": {
    "collapsed": true
   },
   "outputs": [],
   "source": [
    "def choose(n,k):\n",
    "    numer, denom = 1, 1\n",
    "    for x in range(0, k):\n",
    "        numer *= (n - x)\n",
    "        denom *= (x+1)\n",
    "    return numer // denom"
   ]
  },
  {
   "cell_type": "code",
   "execution_count": null,
   "metadata": {
    "collapsed": true
   },
   "outputs": [],
   "source": [
    "# for testing purposes\n",
    "nk2g = {}\n",
    "def g(N, K, d):\n",
    "    nk2g = {}\n",
    "    for n in range(N+1):\n",
    "        for k in range(K+1):\n",
    "            if N < K:\n",
    "                nk2g[(n,k)] = 0\n",
    "        elif n == k:\n",
    "            nk2g[(n,k)] = k\n",
    "        else:\n",
    "            nk2g[(n,k)] = k * nk2g[(n-1, k)] + nk2g[(n-1, k)]          \n",
    "    return nk2g[(N,K)]"
   ]
  },
  {
   "cell_type": "code",
   "execution_count": 29,
   "metadata": {
    "collapsed": true
   },
   "outputs": [],
   "source": [
    "def g(n, k, d):\n",
    "    c = (n,k)\n",
    "    if c in nk2g:\n",
    "        return nk2g[c]\n",
    "    else:\n",
    "        if n <= 0 or k <= 0:\n",
    "            return 0\n",
    "        if n < k:\n",
    "            return 0\n",
    "#             nk2g[c] = 0 # not enough items\n",
    "        elif n == k:\n",
    "            return k\n",
    "#             nk2g[c] = k\n",
    "        else:\n",
    "            nk2g[c] = k * g(n-1, k, d) + g(n-1, k-1, d)\n",
    "    return nk2g[c]\n",
    "\n",
    "\n",
    "def G(n, k, d):\n",
    "    return sum(choose(d,i)*g(n,i,d) for i in range(k,d+1))\n",
    "\n",
    "def p(n,k,d):\n",
    "    return G(n,k,d) / (d**n)"
   ]
  },
  {
   "cell_type": "code",
   "execution_count": 33,
   "metadata": {},
   "outputs": [
    {
     "data": {
      "text/plain": [
       "0.7499999999999991"
      ]
     },
     "execution_count": 33,
     "metadata": {},
     "output_type": "execute_result"
    }
   ],
   "source": [
    "n = 50\n",
    "k = 2\n",
    "d = 2\n",
    "\n",
    "p(n,k,d)"
   ]
  },
  {
   "cell_type": "code",
   "execution_count": 20,
   "metadata": {
    "collapsed": true
   },
   "outputs": [],
   "source": [
    "import sys\n",
    "sys.setrecursionlimit(1000)"
   ]
  },
  {
   "cell_type": "code",
   "execution_count": null,
   "metadata": {
    "collapsed": true
   },
   "outputs": [],
   "source": []
  }
 ],
 "metadata": {
  "kernelspec": {
   "display_name": "Python [default]",
   "language": "python",
   "name": "python3"
  },
  "language_info": {
   "codemirror_mode": {
    "name": "ipython",
    "version": 3
   },
   "file_extension": ".py",
   "mimetype": "text/x-python",
   "name": "python",
   "nbconvert_exporter": "python",
   "pygments_lexer": "ipython3",
   "version": "3.5.3"
  }
 },
 "nbformat": 4,
 "nbformat_minor": 2
}
