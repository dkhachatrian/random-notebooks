{
 "cells": [
  {
   "cell_type": "markdown",
   "metadata": {},
   "source": [
    "# Payoff strategies, risk, and the Central Limit Theorem\n",
    "\n",
    "(This notebook was inspired by the question posted [here](https://brilliant.org/discussions/thread/which-payoff-do-you-want-to-go-for-2/).)\n",
    "\n",
    "## Question\n",
    "\n",
    "A coin with probability of landing heads $p$ is flipped $n$ times.\n",
    "Beforehand, you choose whether you want a payout whenever\n",
    "\"HT\" occurs vs when \"HH\" occurs (overlapping \"substrings\" count).\n",
    "Which do you choose for $p = 0.5, n = 5$?\n",
    "\n",
    "## Discussion of Solution\n",
    "\n",
    "Of course, if $p > 0.5$ it intuitively makes sense to go with the $HH$ strategy. And in fact, one can verify that the expected payoffs favor the $HH$ strategy: $p > 0.5 \\implies E[P_{HH}]>E[P_{HT}]$. This is done by breaking down the payoff random variable $P$ into indicator variables $X_j$, where $X_j$ indicates whether the substring of length $2$ starting at index $j$ of the string of tosses $S$ matches the chosen payoff strategy.\n",
    "\n",
    "A similar argument can be made that if $p < 0.5$, the expected payoff criterion now favors $HT$ over $HH$. But what about when the coin is unbiased, i.e., $p =0.5$? \n",
    "\n",
    "Turns out, using the same sort of calculations via indicator variables, the expected payoff is the same for both strategies for $p = 0.5$. What about the variance of the payoffs? The calculation is a bit more involved (because we have to consider the dependence of adjacent indicator variables for the variance calculation), but it turns out that $Var(S_{HT}) < Var(S_{HH})$.\n",
    "\n",
    "## Distribution of payoffs\n",
    "\n",
    "The above inequalities made me start to wonder: what exactly do the distributions of these payoffs look like? One can set up a combinatorices problem to determine what\n",
    "$Pr[\\text{payoff} = j]$ is for $i \\in \\{0, 1, \\cdots, n\\}$ for either strategy.\n",
    "\n",
    "This would be a good exercise, but sadly the expressions would likely not be particularly enlightening. It would take a bit of finessing to make expressions for arbitrary subsequence length (say, $HHT$ vs $HTH$).\n",
    "\n",
    "To that end, I wrote up an R script to help visualize the differences between strategies of arbitrary length for coin toss sequences of length $n$ (by simulating a sequence of $n$ biased coin flips many times).\n",
    "\n",
    "Let's take a look!"
   ]
  },
  {
   "cell_type": "code",
   "execution_count": 1,
   "metadata": {
    "collapsed": true
   },
   "outputs": [
    {
     "name": "stderr",
     "output_type": "stream",
     "text": [
      "Registered S3 methods overwritten by 'ggplot2':\n",
      "  method         from \n",
      "  [.quosures     rlang\n",
      "  c.quosures     rlang\n",
      "  print.quosures rlang\n",
      "Registered S3 method overwritten by 'rvest':\n",
      "  method            from\n",
      "  read_xml.response xml2\n",
      "-- Attaching packages --------------------------------------- tidyverse 1.2.1 --\n",
      "v ggplot2 3.1.1       v purrr   0.3.2  \n",
      "v tibble  2.1.1       v dplyr   0.8.0.1\n",
      "v tidyr   0.8.3       v stringr 1.4.0  \n",
      "v readr   1.3.1       v forcats 0.4.0  \n",
      "-- Conflicts ------------------------------------------ tidyverse_conflicts() --\n",
      "x dplyr::arrange()   masks plyr::arrange()\n",
      "x purrr::compact()   masks plyr::compact()\n",
      "x dplyr::count()     masks plyr::count()\n",
      "x dplyr::failwith()  masks plyr::failwith()\n",
      "x dplyr::filter()    masks stats::filter()\n",
      "x dplyr::id()        masks plyr::id()\n",
      "x dplyr::lag()       masks stats::lag()\n",
      "x dplyr::mutate()    masks plyr::mutate()\n",
      "x dplyr::rename()    masks plyr::rename()\n",
      "x dplyr::summarise() masks plyr::summarise()\n",
      "x dplyr::summarize() masks plyr::summarize()\n"
     ]
    }
   ],
   "source": [
    "# the basic plumbing\n",
    "\n",
    "\n",
    "library(plyr) # for mapvalues()\n",
    "library(tidyverse)\n",
    "library(tidyr)\n",
    "library(tibble)\n",
    "library(dplyr)\n",
    "\n",
    "\n",
    "flip_fun <- function(n = 5, p = 0.5){\n",
    "  # simulate sequence of n coin flips with bias p\n",
    "  runif(n, min=0, max=1) > p\n",
    "}\n",
    "\n",
    "count_hits <- function(flips, match_seq)\n",
    "{\n",
    "  # count how many times the subsequence match_seq\n",
    "  # occurs in flips\n",
    "  # (both are boolean vectors)\n",
    "  \n",
    "  match_len = length(match_seq)\n",
    "  iter_len = length(flips) - match_len + 1\n",
    "  count <- 0\n",
    "  for(i in 1:iter_len)\n",
    "  {\n",
    "    if(all(flips[i:(i+match_len-1)] == match_seq))\n",
    "    {\n",
    "      count <- count + 1\n",
    "    }\n",
    "  }\n",
    "  count\n",
    "}\n",
    "\n",
    "\n",
    "# convert_to_str <- function(bool_vec){\n",
    "#   # convert TRUE to \"H\" and FALSE to \"T\"\n",
    "#   # return combined string version\n",
    "#   bool_vec[bool_vec] = \"H\"\n",
    "#   # now vector of strings\n",
    "#   bool_vec[bool_vec == \"FALSE\"] = \"T\"\n",
    "#   paste(bool_vec, collapse = '')\n",
    "# }\n",
    "\n",
    "convert_to_str <- function(bool_vec){\n",
    "  # convert boolean vector to string of H's and T's\n",
    "  \n",
    "  # let's use plyr::mapvalues\n",
    "  str_vec <- mapvalues(x = bool_vec, from = c(TRUE, FALSE), to = c(\"H\", \"T\"))\n",
    "  paste(str_vec, collapse = '')\n",
    "}\n",
    "\n",
    "\n",
    "\n",
    "\n"
   ]
  },
  {
   "cell_type": "code",
   "execution_count": 2,
   "metadata": {},
   "outputs": [],
   "source": [
    "# actual experiment simulation code\n",
    "\n",
    "\n",
    "simulate_experiment_1 <- function(match_seqs){\n",
    "\n",
    "  # first need the df to have the proper number of rows\n",
    "  # to be able to add columns\n",
    "  df_res <- data_frame(runif(n = n_rep))\n",
    "  \n",
    "  # \"lazy\" way: have a separate set of simulations for each strategy\n",
    "  # (\"lazy\" because simpler to code: use of \"replicate()\" per strategy)\n",
    "  # but! higher time-complexity (#simulations = O(n_rep*n_strat) vs O(n_rep))\n",
    "  # TODO: Make counts from same simulated string\n",
    "  for (i in 1:length(match_seqs)){\n",
    "    \n",
    "    \n",
    "    label <- convert_to_str(match_seqs[[i]])\n",
    "    \n",
    "    # first need to \"initialize\" column, then assign\n",
    "    # as per \n",
    "    # https://stackoverflow.com/questions/29814912/error-replacement-has-x-rows-data-has-y\n",
    "    \n",
    "    df_res$i = NA\n",
    "    df_res[i] <- replicate(n=n_rep, \n",
    "                          count_hits(flip_fun(num_flips, p = prob_heads),\n",
    "                                     match_seq = match_seqs[[i]]\n",
    "                                     )\n",
    "                          )\n",
    "    colnames(df_res)[i] <- label\n",
    "  }\n",
    "  \n",
    "  df_res\n",
    "  \n",
    "  # we need to tidy up our dataframe --\n",
    "  # -- currently, we have factors in separate columns/two observations per row!\n",
    "  \n",
    "  df_clean <- df_res %>% \n",
    "    gather(flip_type, payout, colnames(df_res))\n",
    "  \n",
    "  df_clean\n",
    "}\n",
    "\n",
    "\n",
    "# TODO: set up vectorization for speedup?\n",
    "# though sadly, substring counting\n",
    "# or dealing with matrix of repetitions are both a bit unwieldy...\n",
    "simulate_experiment_2 <- function(match_seqs){\n",
    "  # simulate the counting experiment, counting successes\n",
    "  # for each seq in the list match_seqs\n",
    "  \n",
    "  # first need the df to have the proper number of rows\n",
    "  # to be able to add columns\n",
    "  df_res <- data_frame()\n",
    "  \n",
    "\n",
    "  \n",
    "  # count per simulation and stick into df\n",
    "  for (i in 1:n_rep){\n",
    "    flips <- flip_fun(num_flips, prob_heads)\n",
    "    temp_row <- c()\n",
    "    for (j in 1:length(match_seqs)){\n",
    "      temp_row <- c(temp_row, count_hits(flips, match_seq = match_seqs[[j]])\n",
    "                    )\n",
    "    }\n",
    "    df_res <- rbind(df_res, temp_row)\n",
    "  }\n",
    "  \n",
    "  # labels for df\n",
    "  labels <- c()\n",
    "  for (i in 1:length(match_seqs)){\n",
    "    labels <- c(labels, convert_to_str(match_seqs[[i]]))\n",
    "  }\n",
    "  colnames(df_res) <- labels\n",
    "  \n",
    "  # we need to tidy up our dataframe --\n",
    "  # -- currently, we have factors in separate columns/two observations per row!\n",
    "  \n",
    "  df_clean <- df_res %>% \n",
    "    gather(flip_type, payout, colnames(df_res))\n",
    "  \n",
    "  df_clean\n",
    "}\n",
    "\n",
    "# match_seqs <- list(\n",
    "#   c(TRUE, FALSE, TRUE),\n",
    "#   c(FALSE, TRUE, TRUE),\n",
    "#   c(TRUE, TRUE, TRUE),\n",
    "#   c(TRUE, TRUE, FALSE)\n",
    "# )\n",
    "\n",
    "# system.time(df_clean <- simulate_experiment_1(match_seqs))\n",
    "# system.time(df_clean <- simulate_experiment_2(match_seqs))\n",
    "\n",
    "\n",
    "# we choose (2) because, although it's slower,\n",
    "# it compares how strategies did *on the same iteration*\n",
    "simulate_experiment <- simulate_experiment_2\n",
    "\n",
    "\n",
    "\n",
    "\n",
    "\n",
    "\n"
   ]
  },
  {
   "cell_type": "code",
   "execution_count": 31,
   "metadata": {},
   "outputs": [],
   "source": [
    "# visualization code\n",
    "\n",
    "generate_caption <- function(n_rep, num_flips, prob_heads, seq_len){\n",
    "  caption_str <- stringr::str_wrap(\n",
    "    paste(sprintf(\"Fractions obtained by perform %s simulations for subsequences of length %s.\", n_rep, seq_len),\n",
    "          sprintf(\"In each simulation, the coin was flipped %s times and had probability %.2f of landing heads.\", num_flips, prob_heads)\n",
    "          #,sep = \"\\n\" #str_wrap overrides internal whitespace\n",
    "    )\n",
    "    , width = 100)\n",
    "    caption_str\n",
    "}\n",
    "\n",
    "\n",
    "plot_strategies <- function(df_clean, plot_type = c()){\n",
    "  # plot_type = \"bar\" or \"density\"\n",
    "  \n",
    "  # referring to http://www.cookbook-r.com/Graphs/Legends_(ggplot2)/\n",
    "  # among other places for ggplot commands and other R commands\n",
    "  \n",
    "#   caption_str <- stringr::str_wrap(\n",
    "#     paste(sprintf(\"Fractions obtained by performing %s simulations.\", n_rep),\n",
    "#           sprintf(\"In each simulation, the coin was flipped %s times and had probability %.2f of landing heads.\", num_flips, prob_heads)\n",
    "#           #,sep = \"\\n\" #str_wrap overrides internal whitespace\n",
    "#     )\n",
    "#     , width = 100)\n",
    "  \n",
    "  caption_str <- generate_caption(n_rep, num_flips, prob_heads, seq_len)\n",
    "    \n",
    "  \n",
    "  if (length(plot_type) == 0){\n",
    "    # some heuristics\n",
    "    if (num_flips < 50){\n",
    "      plot_type <- \"bar\"\n",
    "    }\n",
    "    else {\n",
    "      plot_type <- \"density\"\n",
    "    }\n",
    "  }\n",
    "  \n",
    "  if (plot_type == \"bar\"){\n",
    "  ggplot(df_clean, aes(x = payout, fill = flip_type)) + \n",
    "    geom_bar(aes(y = (..count..)/sum(..count..)), position = position_dodge(preserve = \"total\"), \n",
    "             colour = \"black\") +\n",
    "    scale_fill_discrete(name=\"Strategy\", c=50, l = 50) +\n",
    "    ggtitle(\"Comparison of decision strategies\") +\n",
    "    labs(x= \"Payout\", y = \"Fraction of Outcomes\",\n",
    "         caption = caption_str)\n",
    "    }\n",
    "  else if (plot_type == \"density\"){\n",
    "    ggplot(df_clean, aes(x = payout, fill = flip_type)) + \n",
    "      geom_density(aes(y = (..count..)/sum(..count..)), \n",
    "               colour = \"black\", alpha = 0.4) +\n",
    "      scale_fill_discrete(name=\"Strategy\", c=50, l = 50) +\n",
    "      ggtitle(\"Comparison of decision strategies\") +\n",
    "      labs(x= \"Payout\", y = \"Fraction of Outcomes\",\n",
    "           caption = caption_str)\n",
    "  }\n",
    "}\n",
    "\n"
   ]
  },
  {
   "cell_type": "markdown",
   "metadata": {},
   "source": [
    "OK, we've done pretty much all the code-plumbing we need to actually carry out the simulations now. Let's look at some graphs!\n",
    "\n",
    "Specifically, let's see what the distribution for our alternative strategies would be (i.e., $n = 5, p = 0.5, \\text{strategies} = \\{HH, HT\\}$)."
   ]
  },
  {
   "cell_type": "code",
   "execution_count": 32,
   "metadata": {},
   "outputs": [],
   "source": [
    "n_rep <- 10000 # should be enough simulations to get pretty solid estimates\n",
    "\n",
    "\n",
    "num_flips <- 5\n",
    "prob_heads <- 0.5\n",
    "\n",
    "match_seqs <- list(\n",
    "  c(TRUE, TRUE),\n",
    "  c(TRUE, FALSE)\n",
    ")\n",
    "seq_len <- 2"
   ]
  },
  {
   "cell_type": "code",
   "execution_count": 33,
   "metadata": {
    "scrolled": false
   },
   "outputs": [
    {
     "name": "stderr",
     "output_type": "stream",
     "text": [
      "The following `from` values were not present in `x`: FALSE\n"
     ]
    },
    {
     "data": {
      "image/png": "[encoded data removed]",
      "text/plain": [
       "plot without title"
      ]
     },
     "metadata": {},
     "output_type": "display_data"
    }
   ],
   "source": [
    "plot_strategies(simulate_experiment(match_seqs))"
   ]
  },
  {
   "cell_type": "markdown",
   "metadata": {},
   "source": [
    "Ah, the difference is quite stark!\n",
    "\n",
    "We can use Markov chains as a visual aid for why $HT$ ought to have lower variance than $HH$."
   ]
  },
  {
   "cell_type": "code",
   "execution_count": 52,
   "metadata": {
    "scrolled": true
   },
   "outputs": [],
   "source": [
    "# install.packages(\"markovchain\")"
   ]
  },
  {
   "cell_type": "code",
   "execution_count": 4,
   "metadata": {
    "collapsed": true
   },
   "outputs": [
    {
     "name": "stderr",
     "output_type": "stream",
     "text": [
      "Package:  markovchain\n",
      "Version:  0.6.9.14\n",
      "Date:     2019-01-20\n",
      "BugReport: http://github.com/spedygiorgio/markovchain/issues\n",
      "\n"
     ]
    }
   ],
   "source": [
    "library(markovchain)"
   ]
  },
  {
   "cell_type": "code",
   "execution_count": 14,
   "metadata": {},
   "outputs": [
    {
     "data": {
      "image/png": "[encoded data removed]",
      "text/plain": [
       "Plot with title \"Transition State Diagram for HT Strategy\""
      ]
     },
     "metadata": {},
     "output_type": "display_data"
    }
   ],
   "source": [
    "mc_HT <- new(\"markovchain\", states = c(\"T\", \"H\", \"HT\"),\n",
    "             transitionMatrix = matrix(data = c(0.5, 0.5, 0.0,\n",
    "                                                0.0, 0.5, 0.5,\n",
    "                                                0.5, 0.5, 0.0), \n",
    "                                       byrow = TRUE, \n",
    "                                       nrow = 3),\n",
    "             name = \"HT Strategy\")\n",
    "plot(mc_HT,\n",
    "     main = sprintf(\"Transition State Diagram for %s\", name(mc_HT)),\n",
    "     sub = \"Payout increases by 1 every time an edge to HT is taken.\"\n",
    ")"
   ]
  },
  {
   "cell_type": "markdown",
   "metadata": {},
   "source": [
    "For the $HT$ strategy, there is no way to \"lose progress\" toward the desired state $HT$. Once you have an $H$, you either stay at $H$ (if another \"heads\" pops up) or move forward to the reward state $HT$ (if a tails is flipped).\n",
    "\n",
    "The tradeoff for this \"ensured progress\" is that once you reach the reward state, you have to be sent back to an earlier state."
   ]
  },
  {
   "cell_type": "code",
   "execution_count": 33,
   "metadata": {},
   "outputs": [
    {
     "data": {
      "image/png": "[encoded data removed]",
      "text/plain": [
       "Plot with title \"Transition State Diagram for HH Strategy\""
      ]
     },
     "metadata": {},
     "output_type": "display_data"
    }
   ],
   "source": [
    "mc_HH <- new(\"markovchain\", states = c(\"T\", \"H\", \"HH\"),\n",
    "                          transitionMatrix = matrix(data = c(0.5, 0.5, 0.0,\n",
    "                                                              0.5, 0.0, 0.5,\n",
    "                                                              0.5, 0.0, 0.5), \n",
    "                                                    byrow = TRUE, \n",
    "                                                    nrow = 3),\n",
    "                          name = \"HH Strategy\")\n",
    "plot(mc_HH,\n",
    "     main = sprintf(\"Transition State Diagram for %s\", name(mc_HH)),\n",
    "     sub = \"Payout increases by 1 every time an edge to HH is taken.\"\n",
    ")"
   ]
  },
  {
   "cell_type": "markdown",
   "metadata": {},
   "source": [
    "For the $HH$ strategy, one *needs* at least two favorable outcomes in a row for there to be any payoff -- one $T$ resets progress completely.\n",
    "\n",
    "In exchange for this riskier setup, one gets the possibility of stringing together many rewards in a row (via a long string of $H$'s)."
   ]
  },
  {
   "cell_type": "markdown",
   "metadata": {},
   "source": [
    "That explains the original problem. But we went through so much effort to make the simulation extensible -- let's see what happens for other situations!\n",
    "\n",
    "First, let's look at simply increasing the number of flips to, say, 30."
   ]
  },
  {
   "cell_type": "code",
   "execution_count": 37,
   "metadata": {},
   "outputs": [
    {
     "name": "stderr",
     "output_type": "stream",
     "text": [
      "The following `from` values were not present in `x`: FALSE\n"
     ]
    },
    {
     "data": {
      "image/png": "[encoded data removed]",
      "text/plain": [
       "plot without title"
      ]
     },
     "metadata": {},
     "output_type": "display_data"
    }
   ],
   "source": [
    "n_rep <- 10000 # should be enough simulations to get a pretty solid estimates\n",
    "\n",
    "\n",
    "num_flips <- 30\n",
    "\n",
    "\n",
    "plot_strategies(simulate_experiment(match_seqs), plot_type = 'bar')"
   ]
  },
  {
   "cell_type": "markdown",
   "metadata": {},
   "source": [
    "Interesting -- the $HH$ strategy is far less lop-sided than it used to be, but still has a noticeable right-tail. We'll comment on that more in a bit -- first, let's try some other strategies."
   ]
  },
  {
   "cell_type": "code",
   "execution_count": 51,
   "metadata": {},
   "outputs": [
    {
     "name": "stderr",
     "output_type": "stream",
     "text": [
      "The following `from` values were not present in `x`: FALSE\n"
     ]
    },
    {
     "data": {
      "image/png": "[encoded data removed]",
      "text/plain": [
       "plot without title"
      ]
     },
     "metadata": {},
     "output_type": "display_data"
    }
   ],
   "source": [
    "num_flips <- 5\n",
    "match_seqs <- list(\n",
    "  c(TRUE, FALSE, TRUE),\n",
    "  c(FALSE, TRUE, TRUE),\n",
    "  c(TRUE, TRUE, TRUE),\n",
    "  c(TRUE, TRUE, FALSE)\n",
    ")\n",
    "\n",
    "\n",
    "plot_strategies(simulate_experiment(match_seqs), plot_type = 'bar')"
   ]
  },
  {
   "cell_type": "markdown",
   "metadata": {},
   "source": [
    "It looks as if $THH$ and $HHT$ would be the choices you'd want if you want to maximize the probability of leaving the game with at least some payout, $HHH$ is aiming for maximum payout, and $HTH$ is a strategy inb etween the two extremes. Let's increase the number of flips to $n = 30$ and see how things look."
   ]
  },
  {
   "cell_type": "code",
   "execution_count": 42,
   "metadata": {},
   "outputs": [
    {
     "name": "stderr",
     "output_type": "stream",
     "text": [
      "The following `from` values were not present in `x`: FALSE\n"
     ]
    },
    {
     "data": {
      "image/png": "[encoded data removed]",
      "text/plain": [
       "plot without title"
      ]
     },
     "metadata": {},
     "output_type": "display_data"
    }
   ],
   "source": [
    "#\n",
    "# Actual code\n",
    "#\n",
    "num_flips <- 30\n",
    "match_seqs <- list(\n",
    "  c(TRUE, FALSE, TRUE),\n",
    "  c(FALSE, TRUE, TRUE),\n",
    "  c(TRUE, TRUE, TRUE),\n",
    "  c(TRUE, TRUE, FALSE)\n",
    ")\n",
    "\n",
    "\n",
    "plot_strategies(simulate_experiment(match_seqs), plot_type = 'bar')"
   ]
  },
  {
   "cell_type": "markdown",
   "metadata": {},
   "source": [
    "The $HHT$ and $THH$ strategies mirror each other rather closely, as they both have the same amount of \"hedging\" -- in theory, they should converge to the exact same distribution with enough simulations. The $HTH$ strategy has slightly less hedging, aiming for possible overlapping substrings (e.g. $HTHTH$, netting a reward of $2$ in a substring of length only $5$ rather than $6$), leading to higher variance. The riskiest of all strategies remains the \"all heads\" $HHH$ strategy, leaving a long right tail.\n",
    "\n",
    "Alright, these were for relatively short sequences of coin flips. Let's see what happens to our original two strategies after a ton of coin flips -- say, $n = 500$."
   ]
  },
  {
   "cell_type": "code",
   "execution_count": 45,
   "metadata": {},
   "outputs": [
    {
     "name": "stderr",
     "output_type": "stream",
     "text": [
      "The following `from` values were not present in `x`: FALSE\n"
     ]
    },
    {
     "data": {
      "image/png": "[encoded data removed]",
      "text/plain": [
       "plot without title"
      ]
     },
     "metadata": {},
     "output_type": "display_data"
    }
   ],
   "source": [
    "num_flips <- 500\n",
    "prob_heads <- 0.5\n",
    "\n",
    "match_seqs <- list(\n",
    "  c(TRUE, TRUE),\n",
    "  c(TRUE, FALSE)\n",
    ")\n",
    "\n",
    "df_clean <- simulate_experiment(match_seqs)\n",
    "plot_strategies(df_clean, plot_type = 'bar')"
   ]
  },
  {
   "cell_type": "markdown",
   "metadata": {},
   "source": [
    "The barplot might be a little messy to look out -- we'll smooth it out with a kernel density estimate."
   ]
  },
  {
   "cell_type": "code",
   "execution_count": 47,
   "metadata": {},
   "outputs": [
    {
     "data": {
      "image/png": "[encoded data removed]",
      "text/plain": [
       "plot without title"
      ]
     },
     "metadata": {},
     "output_type": "display_data"
    }
   ],
   "source": [
    "plot_strategies(df_clean, plot_type = 'density')"
   ]
  },
  {
   "cell_type": "markdown",
   "metadata": {},
   "source": [
    "Those look awfully bell-shaped! Let's see if this also happens for our more complicated strategies:"
   ]
  },
  {
   "cell_type": "code",
   "execution_count": 50,
   "metadata": {},
   "outputs": [
    {
     "name": "stderr",
     "output_type": "stream",
     "text": [
      "The following `from` values were not present in `x`: FALSE\n"
     ]
    },
    {
     "data": {
      "image/png": "[encoded data removed]",
      "text/plain": [
       "plot without title"
      ]
     },
     "metadata": {},
     "output_type": "display_data"
    }
   ],
   "source": [
    "match_seqs <- list(\n",
    "  c(TRUE, FALSE, TRUE),\n",
    "  c(FALSE, TRUE, TRUE),\n",
    "  c(TRUE, TRUE, TRUE),\n",
    "  c(TRUE, TRUE, FALSE)\n",
    ")\n",
    "\n",
    "df_clean <- simulate_experiment(match_seqs)\n",
    "plot_strategies(df_clean)"
   ]
  },
  {
   "cell_type": "markdown",
   "metadata": {},
   "source": [
    "Yup, pretty bell-shaped! They are all centered around the same value, but they are spread by different amounts. The riskiest strategy ($HHH$) has the most spread, followed by $HTH$, while $THH$ and $HHT$ essentially perfectly overlap.\n",
    "\n",
    "What's going on here? Well, we said before that we can break down the payoff $P$ into a sum of indicator variables, more specifically:\n",
    "\n",
    "$$P_n = \\sum_{i=1}^{n-k + 1}X_{i;S,k}$$\n",
    "\n",
    "where $X_{i;S,k}$ is an indicator variable determining whether the substring of $P_n$ starting at index $i$ matches the substring $S$, which has length $k$.\n",
    "\n",
    "Note that \"nearby\" $X_i$'s are dependent on one another! This corresponds to the fact that the substrings they are looking at overlap. However, $|j-i|>k \\implies X_i \\text{ and } X_j \\text{ are independent}$; i.e., indicator variables far enough away from each other are independent. And $P_n$ is the sum of many copies of these indicator variables. Subsets of these indicator variables are pairwise independent, but as $n$ increases, the number of pairwise independent subsets are dwarfed by the many, many subsets of *independent* indicator random variables.\n",
    "\n",
    "This makes $P_n$ \"look\" more and more like a sum of independent, identically distributed random variables. And what does that mean? The Central Limit Theorem! And indeed, as $n$ grows larger and larger, the resulting distribution becomes arbitrarily close to a Gaussian with the same mean and variance as the underlying sum of random variables.\n",
    "\n",
    "But note how large of a difference there is between the distribution of our strategies for $n = 5$ compared to $n = 500$. If we know we'll be in the realm of asymptotic statistics, we are lucky to usually be able to invoke the Central Limit Theorem and simplify our analysis. But we have no such luck when $n = 5$, where simply stating expectations and variances may not provide a full enough picture of the underlying probability mass function. Another example of why it's always important to pay attention to the situation under consideration!\n",
    "\n",
    "\\- DK, 6/17/2019"
   ]
  },
  {
   "cell_type": "markdown",
   "metadata": {},
   "source": [
    "# Addendum: Symmetry and closer inspection of how the variance varies.\n",
    "\n",
    "After I shared this notebook on the discussion thread that inspired its creation, the original poster made a few remarks that piqued my interest. I'll quote (emphasis mine):\n",
    "\n",
    "> *Calvin Lin posted:*\n",
    ">\n",
    "> That's a lovely investigation! The 3-coin case is more complicated, so it's great to see your results. *Note that the $THH$ and $HHT$ cases are identical by symmetry (flip the coins and flip the order of the sequence).* For the variance, we indeed have $THH < HTH < HHH$.\n",
    ">\n",
    "> *For the general case, I believe that the $TH \\ldots H$ case has the lowest variance* (since it requires a $T$ to get it started, so has a very low chance of duplicity). The transition state diagrams also give us some information on how to estimate the variance.\n",
    "\n",
    "Well, let's check that, shall we? The post has two points:\n",
    "\n",
    "1. Some strategies are identical by symmetry.\n",
    "2. \"Duplicity\" in the sequence (what I'll call *overlap*) is important in determining a strategy's variance.\n",
    "\n",
    "## Arguments by Symmetry \n",
    "\n",
    "\n",
    "We can prove the redundancies in different strategies through bijections.\n",
    "\n",
    "### (1)\n",
    "\n",
    "Say we're looking for the number of instances of the subsequence $b$ in the binary string $S$. Denote $\\neg S$ as the *binary negation of $S$* (for our $H$ and $T$ scenario, all $H$'s become $T$'s and vice-versa), and denote $mir(S)$ as the *mirror of $S$*, i.e., the sequence as read from right-to-left (rather than left-to-right).\n",
    "\n",
    "Now, for *any* sequence $s$, the probability of observing $s$ or its mirror are identical: $P(s) = P(mir(s))$. So, given any subsequence $b$ and main sequence $S$, for every event $\\omega = \\text{b was found k times in S}$, there is a matching event $\\omega' = \\text{mir(b) was found k times in mir(S)}$. So $P(\\omega) = P(\\omega')$ and the strategies $b$ and $mir(b)$ are identical.\n",
    "\n",
    "Now let's assume an equal probability of each individual outcome $P(H) = P(T) = 0.5$. Then in addition to the above, the binary negation of *any* sequence $s$ has the same probability of occurring: $P(\\neg s) = P(s)$. So, by an argument that mimics the earlier one, we have that the strategies $b$ and $\\not b$ are identical *when each of the binary outcomes have equal probability*. (We can also expand this equivalence class to include both negation and mirroring -- the equivalence class of $b$ is $Eq(b) = \\{b, \\neg b, mir(b), mir(\\neg b)\\}$.)\n",
    "\n",
    "### (2)\n",
    "\n",
    "We actually alluded to this previously when we visualized the Markov chain description of a few payoff strategies. When $p = 0.5$, payoff strategies such as $g_1 = HHTHH$ and $g_2 = THHTH$ will have identical Markov chain states and transition probababilities, only with different \"labels\" attached to them (for example, the $HH$ node for $g_1$ would be labeled $TH$ for $g_2$).\n",
    "\n",
    "## ~~Bread and Circuses~~ Code and Graphs\n",
    "\n",
    "But enough arguments! Let's see some graphs -- \"a picture is worth a thousand words\", after all."
   ]
  },
  {
   "cell_type": "code",
   "execution_count": 11,
   "metadata": {
    "collapsed": true
   },
   "outputs": [
    {
     "name": "stderr",
     "output_type": "stream",
     "text": [
      "Warning message:\n",
      "\"package 'collections' was built under R version 3.6.1\""
     ]
    }
   ],
   "source": [
    "# install.packages(\"collections\")\n",
    "library(collections) # for Stack and Dict"
   ]
  },
  {
   "cell_type": "code",
   "execution_count": 12,
   "metadata": {},
   "outputs": [],
   "source": [
    "# helper functions\n",
    "\n",
    "\n",
    "convert_to_str <- function(bool_vec){\n",
    "  # convert boolean vector to string of H's and T's\n",
    "  \n",
    "  # let's use plyr::mapvalues\n",
    "  str_vec <- mapvalues(x = bool_vec, from = c(TRUE, FALSE), to = c(\"H\", \"T\"))\n",
    "  paste(str_vec, collapse = '')\n",
    "}\n",
    "\n",
    "\n",
    "mirror_str <- function(s){\n",
    "  # reverse string order, e.g. \"HTT\" -> \"TTH\"\n",
    "  \n",
    "  k <- strsplit(s, '')[[1]] # strsplit returns list -- just want the one entry\n",
    "  k <- rev(k)\n",
    "  mir <- paste(k, collapse = '')\n",
    "  mir\n",
    "}\n",
    "\n",
    "\n",
    "\n",
    "\n",
    "largest_overlap <- function(s){\n",
    "  #` given a string, determine the largest overlap with itself\n",
    "  #` e.g. \"HHHTTHHH\" -> 3 (the beginning \"HHH\" and the final \"HHH\")\n",
    "  #` note: \"HHHH\" -> 3 (return-value is strictly less than length of s)\n",
    "  \n",
    "  v <- strsplit(s,'')[[1]]\n",
    "  end <- length(v)\n",
    "  \n",
    "  for (cur_len in seq(length(v)-1,1)){\n",
    "    if(all(v[1:cur_len] == v[(end-cur_len+1):end])){\n",
    "      return(cur_len)\n",
    "    }\n",
    "  }\n",
    "  # if here, no overlap\n",
    "  return(0)\n",
    "}\n",
    "\n",
    "# largest_overlap(\"HHH\")\n",
    "\n",
    "\n",
    "\n",
    "\n",
    "\n",
    "\n",
    "\n",
    "\n",
    "generate_powerset <- function(n) {\n",
    "  # generates all boolean vectors of length n\n",
    "  cur <- c()\n",
    "  st <- Stack$new()\n",
    "  st$push(cur)\n",
    "  res <- list()\n",
    "  \n",
    "  while(st$size() > 0){\n",
    "    cur <- st$pop()\n",
    "    if(length(cur) == (n-1)){\n",
    "      # save to res\n",
    "      # (longer code to prevent a O(2^n) scan across stack\n",
    "      # just to save to res)\n",
    "      res <- c(res, list(c(cur, TRUE)))\n",
    "      res <- c(res, list(c(cur, FALSE)))\n",
    "    }\n",
    "    else{\n",
    "      # add one of each to stack\n",
    "      st$push(c(cur, TRUE))\n",
    "      st$push(c(cur, FALSE))\n",
    "    }\n",
    "  }\n",
    "  res\n",
    "}\n",
    "\n",
    "\n",
    "filter_vecs <- function(bool_list, exclude_neg = TRUE, exclude_mir = TRUE, exclude_mir_neg = TRUE){\n",
    "  # Filter out values from bool_list according to boolean flags\n",
    "  \n",
    "  \n",
    "  # using Dicts as hashmaps...\n",
    "  d_filter <- Dict$new()\n",
    "  cur_key <- c()\n",
    "  d_res <- Dict$new()\n",
    "  \n",
    "  # initialize hashmaps\n",
    "  for(e in bool_list){\n",
    "    key <- convert_to_str(e)\n",
    "    # keys <- c(keys, list(key))\n",
    "    d_filter$set(key, 1) # dict of str -> \"should_keep\"\n",
    "    d_res$set(key, e) # str -> bool_vec\n",
    "  }\n",
    "  \n",
    "  while(d_filter$size() > 0){\n",
    "    # take some random key from d_filter, say the first one when calling $keys()\n",
    "    str_key <- d_filter$keys()[1]\n",
    "    mir <- mirror_str(str_key)\n",
    "    \n",
    "    ## get negation\n",
    "    k <- d_res$get(str_key)\n",
    "    # flip bits\n",
    "    k <- !k\n",
    "    # convert back to string\n",
    "    neg <- convert_to_str(k)\n",
    "    \n",
    "    # get mirrored negation\n",
    "    mir_neg <- mirror_str(neg)\n",
    "    \n",
    "    \n",
    "    if(exclude_mir && (str_key != mir))\n",
    "      d_res$pop(mir, NULL)\n",
    "    if(exclude_neg)\n",
    "      d_res$pop(neg, NULL)\n",
    "    if(exclude_mir_neg)\n",
    "      d_res$pop(mir_neg, NULL)\n",
    "    \n",
    "    # remove \"equivalence class\" from list we're going through\n",
    "    d_filter$pop(mir, NULL)\n",
    "    d_filter$pop(neg, NULL)\n",
    "    d_filter$pop(mir_neg, NULL)\n",
    "    d_filter$pop(str_key, NULL)\n",
    "\n",
    "  }\n",
    "  \n",
    "  d_res$values()\n",
    "}\n",
    "\n",
    "\n",
    "\n",
    "\n",
    "\n",
    "# for odd exponents, generate_vec(2n+1)\n",
    "# there seem to be (2^(2n-1) + 2^(n-1)) \"unique\" terms.\n",
    "# Proof sketch:\n",
    "# There are 2^(n+1) self-mirror terms \n",
    "# (first n bits are free, last n bits must mirror them, middle bit also free)\n",
    "# Deal with each portion (self-mirrors and non-mirrors) separately then add back together\n",
    "#\n",
    "# for even exponents generate_vec(2n)\n",
    "# there are exactly (2^(2n-2)) unique terms"
   ]
  },
  {
   "cell_type": "code",
   "execution_count": 5,
   "metadata": {},
   "outputs": [],
   "source": [
    "# update plotter to handle many factors a bit better\n",
    "\n",
    "plot_strategies <- function(df_clean, plot_type = c()){\n",
    "  # plot_type = \"bar\" or \"density\"\n",
    "  \n",
    "  # referring to http://www.cookbook-r.com/Graphs/Legends_(ggplot2)/\n",
    "  # among other places for ggplot commands and other R commands\n",
    "  \n",
    "\n",
    "  \n",
    "  \n",
    "  if (length(plot_type) == 0){\n",
    "    # some heuristics\n",
    "    if (num_flips < 50){\n",
    "      plot_type <- \"bar\"\n",
    "    }\n",
    "    else {\n",
    "      plot_type <- \"density\"\n",
    "    }\n",
    "  }\n",
    "\n",
    "  # plot cases  \n",
    "\n",
    "  if (length(unique(df_clean$flip_type)) > 3 && plot_type == \"density\"){\n",
    "    # probably better to just use 'color' attribute...\n",
    "    # actually, store plot\n",
    "    # and add facet_wrap() afterward!\n",
    "    ggplot(df_clean, aes(x = payout, color = flip_type\n",
    "                         , fill = flip_type\n",
    "    )) + \n",
    "      geom_density(aes(y = (..count..)/sum(..count..)),\n",
    "                   alpha = 0.1) +\n",
    "      scale_fill_discrete(name=\"Strategy\", c=50, l = 50) +\n",
    "      ggtitle(\"Comparison of decision strategies\") +\n",
    "      labs(x= \"Payout\", y = \"Fraction of Outcomes\",\n",
    "           caption = caption_str)  +\n",
    "      scale_color_discrete(guide = \"none\")\n",
    "  }\n",
    "  \n",
    "  else {\n",
    "    # can get away with prettier fill-in colors\n",
    "    if (plot_type == \"bar\"){\n",
    "      ggplot(df_clean, aes(x = payout, fill = flip_type)) + \n",
    "        geom_bar(aes(y = (..count..)/sum(..count..)), position = position_dodge(preserve = \"total\"), \n",
    "                 colour = \"black\") +\n",
    "        scale_fill_discrete(name=\"Strategy\", c=50, l = 50) +\n",
    "        ggtitle(\"Comparison of decision strategies\") +\n",
    "        labs(x= \"Payout\", y = \"Fraction of Outcomes\",\n",
    "             caption = caption_str)\n",
    "    }\n",
    "    else if (plot_type == \"density\"){\n",
    "      ggplot(df_clean, aes(x = payout, fill = flip_type)) + \n",
    "        geom_density(aes(y = (..count..)/sum(..count..)), \n",
    "                     colour = \"black\", alpha = 0.4) +\n",
    "        scale_fill_discrete(name=\"Strategy\", c=50, l = 50) +\n",
    "        ggtitle(\"Comparison of decision strategies\") +\n",
    "        labs(x= \"Payout\", y = \"Fraction of Outcomes\",\n",
    "             caption = caption_str)\n",
    "    }\n",
    "  }\n",
    "  \n",
    "  \n",
    "}"
   ]
  },
  {
   "cell_type": "code",
   "execution_count": 27,
   "metadata": {
    "collapsed": true
   },
   "outputs": [
    {
     "name": "stderr",
     "output_type": "stream",
     "text": [
      "The following `from` values were not present in `x`: TRUE\n",
      "The following `from` values were not present in `x`: FALSE\n",
      "The following `from` values were not present in `x`: TRUE\n",
      "Warning message in self$remove(key):\n",
      "\"object 'TTTTT' not found\"Warning message in self$remove(key):\n",
      "\"object 'TTTTT' not found\"Warning message in self$remove(key):\n",
      "\"object 'HHHHH' not found\"Warning message in self$remove(key):\n",
      "\"object 'TTHTT' not found\"Warning message in self$remove(key):\n",
      "\"object 'TTHTT' not found\"Warning message in self$remove(key):\n",
      "\"object 'HHTHH' not found\"Warning message in self$remove(key):\n",
      "\"object 'THTHT' not found\"Warning message in self$remove(key):\n",
      "\"object 'THTHT' not found\"Warning message in self$remove(key):\n",
      "\"object 'HTHTH' not found\"Warning message in self$remove(key):\n",
      "\"object 'THHHT' not found\"Warning message in self$remove(key):\n",
      "\"object 'THHHT' not found\"Warning message in self$remove(key):\n",
      "\"object 'HTTTH' not found\"The following `from` values were not present in `x`: FALSE\n"
     ]
    }
   ],
   "source": [
    "seq_len <- 5\n",
    "bool_list <- generate_powerset(seq_len)\n",
    "match_seqs <- filter_vecs(bool_list) # all *possibly* distinct values\n",
    "\n",
    "n_rep <- 10000 # should be enough simulations to get pretty solid estimates for shorter sequence length\n",
    "\n",
    "\n",
    "num_flips <- 1000\n",
    "prob_heads <- 0.5\n",
    "\n",
    "df_clean <- simulate_experiment(match_seqs)"
   ]
  },
  {
   "cell_type": "code",
   "execution_count": 9,
   "metadata": {},
   "outputs": [
    {
     "data": {
      "image/png": "[encoded data removed]",
      "text/plain": [
       "plot without title"
      ]
     },
     "metadata": {},
     "output_type": "display_data"
    }
   ],
   "source": [
    "p <- plot_strategies(df_clean)\n",
    "p +\n",
    "  facet_wrap(~ flip_type)"
   ]
  },
  {
   "cell_type": "markdown",
   "metadata": {},
   "source": [
    "Hmm, a lot of these look very similar -- perhaps, as I suspected, the only distinguishing factor between strategies is how much overlap exists with the end and beginning of the sequence? Let's see."
   ]
  },
  {
   "cell_type": "code",
   "execution_count": 17,
   "metadata": {},
   "outputs": [
    {
     "data": {
      "image/png": "[encoded data removed]",
      "text/plain": [
       "plot without title"
      ]
     },
     "metadata": {},
     "output_type": "display_data"
    }
   ],
   "source": [
    "caption_str <- generate_caption(n_rep, num_flips, prob_heads, seq_len)\n",
    "\n",
    "\n",
    "ggplot(df_clean, aes(x = payout, color = flip_type\n",
    "                     , fill = flip_type\n",
    ")) + \n",
    "  geom_density(aes(y = (..count..)/sum(..count..)),\n",
    "               alpha = 0.1) +\n",
    "  scale_fill_discrete(name=\"Strategy\", c=50, l = 50) +\n",
    "  ggtitle(\"Comparison of decision strategies: Degree of Overlap\") +\n",
    "  labs(x= \"Payout\", y = \"Fraction of Outcomes\",\n",
    "       caption = caption_str)  +\n",
    "  scale_color_discrete(guide = \"none\") +\n",
    "    facet_wrap(~ overlap_num)\n"
   ]
  },
  {
   "cell_type": "markdown",
   "metadata": {},
   "source": [
    "As we thought! Since all of these random variables are converging to Normal distributions with the same $\\mu$, the only differentiating factor is their variance $\\sigma^2$, which is governed only by the degree of overlap! This agrees well with our Markov chain analysis from earlier. (We could test this more rigorously by, say, performing pairwise $\\chi^2$ goodness-of-fit tests within each grouping and taking conservative values for the degrees of freedom and the test-statistic -- but we'll save such an analysis for another day and another question.)\n",
    "\n",
    "And how much does the standard deviation normalized by mean, $\\sigma/\\mu$ (also known as the [coefficient of variation](https://en.wikipedia.org/wiki/Coefficient_of_variation)), change as we increase the level of overlap?"
   ]
  },
  {
   "cell_type": "code",
   "execution_count": 15,
   "metadata": {},
   "outputs": [],
   "source": [
    "compare_cvs <- function(df_clean){\n",
    "    \n",
    "    df_clean <- df_clean %>% rowwise() %>% mutate(overlap_num = largest_overlap(flip_type))\n",
    "    \n",
    "    df_stats <- df_clean %>% \n",
    "      group_by(overlap_num) %>% \n",
    "      summarize(strat_mean = mean(payout), strat_sd = sd(payout))\n",
    "      # mutate(sd_flip = sd(payout)) %>%\n",
    "\n",
    "\n",
    "\n",
    "    df_stats <- df_stats %>% rowwise() %>%\n",
    "            mutate(normalized_sd = strat_sd/strat_mean)\n",
    "\n",
    "    df_stats <- df_stats %>% mutate(fraction_of_overlap = overlap_num / seq_len)\n",
    "    \n",
    "    # ggplot(df_stats, aes(x=reorder(fraction_of_overlap, strat_sd), y = normalized_sd, fill = factor(fraction_of_overlap))) +\n",
    "    #    geom_col(stat = 'identity', show.legend = FALSE) +\n",
    "    ggplot(df_stats, aes(x=factor(fraction_of_overlap), y = normalized_sd, fill = factor(fraction_of_overlap))) +\n",
    "       geom_bar(stat = 'identity', show.legend = FALSE) +\n",
    "       scale_fill_discrete(name=\"Strategy\", c=50, l = 50) +\n",
    "       ggtitle(\"Comparison of decision strategies' coefficients of variation.\") +\n",
    "       labs(x= \"Fraction of Subsequence Overlap\", y = \"Normalized Standard Deviations\",\n",
    "            caption = generate_caption(n_rep, num_flips, prob_heads,seq_len))\n",
    "    \n",
    "    }\n",
    "\n",
    "\n",
    "\n",
    "\n",
    "\n"
   ]
  },
  {
   "cell_type": "code",
   "execution_count": 28,
   "metadata": {
    "scrolled": false
   },
   "outputs": [
    {
     "name": "stderr",
     "output_type": "stream",
     "text": [
      "Warning message:\n",
      "\"Grouping rowwise data frame strips rowwise nature\""
     ]
    },
    {
     "data": {
      "image/png": "[encoded data removed]",
      "text/plain": [
       "plot without title"
      ]
     },
     "metadata": {},
     "output_type": "display_data"
    }
   ],
   "source": [
    "compare_cvs(df_clean)"
   ]
  },
  {
   "cell_type": "markdown",
   "metadata": {},
   "source": [
    "And does the look of the graph change much if we change the length of the main sequence $n$ from $1000$ to $100$?"
   ]
  },
  {
   "cell_type": "code",
   "execution_count": 24,
   "metadata": {
    "collapsed": true
   },
   "outputs": [
    {
     "name": "stderr",
     "output_type": "stream",
     "text": [
      "The following `from` values were not present in `x`: TRUE\n",
      "The following `from` values were not present in `x`: FALSE\n",
      "The following `from` values were not present in `x`: TRUE\n",
      "Warning message in self$remove(key):\n",
      "\"object 'TTTTT' not found\"Warning message in self$remove(key):\n",
      "\"object 'TTTTT' not found\"Warning message in self$remove(key):\n",
      "\"object 'HHHHH' not found\"Warning message in self$remove(key):\n",
      "\"object 'TTHTT' not found\"Warning message in self$remove(key):\n",
      "\"object 'TTHTT' not found\"Warning message in self$remove(key):\n",
      "\"object 'HHTHH' not found\"Warning message in self$remove(key):\n",
      "\"object 'THTHT' not found\"Warning message in self$remove(key):\n",
      "\"object 'THTHT' not found\"Warning message in self$remove(key):\n",
      "\"object 'HTHTH' not found\"Warning message in self$remove(key):\n",
      "\"object 'THHHT' not found\"Warning message in self$remove(key):\n",
      "\"object 'THHHT' not found\"Warning message in self$remove(key):\n",
      "\"object 'HTTTH' not found\""
     ]
    }
   ],
   "source": [
    "seq_len <- 5\n",
    "bool_list <- generate_powerset(seq_len)\n",
    "match_seqs <- filter_vecs(bool_list) # all *possibly* distinct values\n",
    "n_rep <- 10000 # should be enough simulations to get pretty solid estimates for shorter sequence length\n"
   ]
  },
  {
   "cell_type": "code",
   "execution_count": 25,
   "metadata": {},
   "outputs": [
    {
     "name": "stderr",
     "output_type": "stream",
     "text": [
      "The following `from` values were not present in `x`: FALSE\n",
      "Warning message:\n",
      "\"Grouping rowwise data frame strips rowwise nature\""
     ]
    },
    {
     "data": {
      "image/png": "[encoded data removed]",
      "text/plain": [
       "plot without title"
      ]
     },
     "metadata": {},
     "output_type": "display_data"
    }
   ],
   "source": [
    "num_flips <- 100\n",
    "\n",
    "\n",
    "df_clean <- simulate_experiment(match_seqs)\n",
    "compare_cvs(df_clean)"
   ]
  },
  {
   "cell_type": "markdown",
   "metadata": {},
   "source": [
    "As suspected -- the shape of the graph stays the same, while the *scale* of the y-axis is stretched.\n",
    "\n",
    "The factor of stretching itself is somewhat interesting. When $n$ (the length of the total sequence) *decreases* from $n_1$ to $n_2$, we find by inspection that the coefficient of variation *increases* by a factor of \n",
    "\n",
    "$$\\frac{CV_2}{CV_1} \\approx \\left|{\\log_2\\left(\\frac{n_2}{n_1}\\right)}\\right|$$\n",
    "\n",
    "(If $n$ is *increasing* from $n_1$ to $n_2$, the coefficient of variation *decreases* by the above factor.)\n",
    "\n",
    "Given that the change in $\\mu$ is linear in $n$ (see equation in next section) and recalling that $CV = \\frac{\\sigma}{\\mu}$, we can say the following about how the standard deviation changes with $n$ (assuming $\\min(n_1, n_2) \\gg k$, the subsequence length of interest):\n",
    "\n",
    "$$\\begin{aligned} \\frac{\\sigma_2}{\\sigma_1} & \\approx \\frac{\\mu_2}{\\mu_1} \\times \\log_2\\left(\\frac{n_2}{n_1}\\right) \\\\\n",
    "                                            & \\approx \\frac{n_2}{n_1} \\log_2\\left(\\frac{n_2}{n_1}\\right)\n",
    "\\end{aligned}\n",
    "$$\n",
    "\n",
    "This suggests that in general, $\\sigma = O(n \\log_2(n))$. (And if we wanted, we could fit this form to a plot of $\\sigma(n)$ to determine the function's coefficient of best fit.) Neat!"
   ]
  },
  {
   "cell_type": "markdown",
   "metadata": {},
   "source": [
    "And now, out of curiosity, let's see how this trend looks for larger and larger subsequence size (say $k = 10$).\n",
    "\n",
    "# Cautionary word: Perform enough simulations.\n",
    "\n",
    "Before that, a caveat. Recall that the expected number of hits of subsequence $k$ in a sequence of length $n$ is \n",
    "\n",
    "$$E[P_{n,k}] = \\mu_{n,k} = (n-k+1) \\times 2^{-k}$$\n",
    "\n",
    "(which can be calculated using indicator variables).\n",
    "\n",
    "Note the two conflicting factors in the expectation expression. The probability of a success decreases *exponentially* with increasing $k$, while an increase in $n$ corresponds to only a linear increase in the expectation. When $E[P_{n,k}]$ gets too small, especially if it becomes much smaller than $1$, you will need a great number of simulations to have the simulated average converge to the true expectation $\\mu$. In particular, if $E[P_{n,k}] \\approx 10^{-q}$, you will likely want to perform $r = \\frac{1}{E[P_{n,k}]} \\times 10^p = 10^{q+p}$ simulations (for $p > 3$ or so).\n",
    "\n",
    "Why? It's a matter of \"resolution\"; the inherent stochasticity involved in each simulation becomes ever more important when estimating smaller values. Say $E[P_{n,k}] = \\mu = 10^{-6}$ and you ran $r = 10^4$ simulations. The \"resolution\" of our sample mean is how much our sample mean changes when we add $1$ to our total. In general, that is $\\frac{1}{r}$; in this case, it's $10^{-4}$. That's a full $100$ times the size of the value we're trying to estimate! So our closest estimate is $\\bar{X} = 0$, and the next best possible value is $\\bar{X} = 100 \\mu$. Which aren't exactly great empirical values for $\\mu$. If $r = 1/\\mu$, we can potentially actually get $\\bar{X} = \\mu$, but by just one \"extra\" or \"missing\" success, we can have $\\bar{X} = 0$ or $\\bar{X} = 2\\mu$ -- not very stable estimates.\n",
    "\n",
    "Moral of the story? Having a rough estimate of the size of the value you're trying to estimate via simulation can help make sure you actually perform enough simulations to get a good estimate.\n",
    "\n",
    "Alright -- back to the show."
   ]
  },
  {
   "cell_type": "code",
   "execution_count": 17,
   "metadata": {},
   "outputs": [],
   "source": [
    "generate_overlapping_vec <- function(n,k){\n",
    "    # generate a (non-unique) boolean vector of length n\n",
    "    # with \"length of overlap\" (as described by largest_overlap) of k (< n)\n",
    "\n",
    "\n",
    "    if((k >= n) || (n <= 0) || (k < 0))\n",
    "    c()\n",
    "\n",
    "    # weird indexing... deal with 0 separately\n",
    "    if(k==0){\n",
    "    res <- logical(n) # FALSE by default\n",
    "    res[1] <- TRUE\n",
    "    return(res)\n",
    "    }\n",
    "\n",
    "    # 0 -> F, 1 -> T, -1 -> unspecified by k\n",
    "\n",
    "    res <- integer(n) - 1\n",
    "    start_val <- FALSE # arbitrary\n",
    "    cur <- start_val\n",
    "\n",
    "    res[seq(n,1,k-n)] <- start_val # tile with T\n",
    "    res[res==-1] <- !start_val # fill rest with H\n",
    "\n",
    "\n",
    "    return(as.logical(res))\n",
    "\n",
    "}\n",
    "\n",
    "\n",
    "\n",
    "# much more efficient generation method than \"powerset -> filter\" method (O(n) vs O(2^n))\n",
    "generate_overlapping_vecs <- function(seq_len){\n",
    "    # generate one vector that represents a degree of overlap\n",
    "    # between [0, seq_len - 1]\n",
    "    res <- list()\n",
    "    for(i in 0:(seq_len - 1)){\n",
    "        res <- c(res, list(generate_overlapping_vec(seq_len, i)))\n",
    "    }\n",
    "    res\n",
    "}\n",
    "\n",
    "\n",
    "\n",
    "# # unit test\n",
    "# seq_len <- 20\n",
    "# match_seqs <- generate_overlapping_vecs(seq_len)\n",
    "\n",
    "# for(i in 1:length(match_seqs)){\n",
    "#     v <- convert_to_str(match_seqs[[i]])\n",
    "#     print(largest_overlap(v))\n",
    "# }"
   ]
  },
  {
   "cell_type": "code",
   "execution_count": 18,
   "metadata": {},
   "outputs": [],
   "source": [
    "seq_len <- 10\n",
    "match_seqs <- generate_overlapping_vecs(seq_len)\n",
    "\n",
    "n_rep <- 100000 # should be enough simulations to get pretty solid estimates\n",
    "\n",
    "\n",
    "num_flips <- 1000\n",
    "prob_heads <- 0.5\n"
   ]
  },
  {
   "cell_type": "code",
   "execution_count": 19,
   "metadata": {
    "collapsed": true
   },
   "outputs": [
    {
     "name": "stderr",
     "output_type": "stream",
     "text": [
      "The following `from` values were not present in `x`: TRUE\n"
     ]
    }
   ],
   "source": [
    "df_clean <- simulate_experiment(match_seqs)"
   ]
  },
  {
   "cell_type": "code",
   "execution_count": 26,
   "metadata": {},
   "outputs": [],
   "source": [
    "# # see raw values\n",
    "\n",
    "# df_stats <- df_clean %>% rowwise() %>% mutate(overlap_num = largest_overlap(flip_type))\n",
    "\n",
    "# df_stats <- df_stats %>% \n",
    "#   group_by(overlap_num) %>% \n",
    "#   summarize(strat_mean = mean(payout), strat_sd = sd(payout))\n",
    "#   # mutate(sd_flip = sd(payout)) %>%\n",
    "\n",
    "\n",
    "\n",
    "# df_stats <- df_stats %>% rowwise() %>%\n",
    "#         mutate(normalized_sd = strat_sd/strat_mean)\n",
    "\n",
    "# df_stats <- df_stats %>% mutate(fraction_of_overlap = overlap_num / seq_len)\n",
    "\n",
    "# df_stats"
   ]
  },
  {
   "cell_type": "code",
   "execution_count": 20,
   "metadata": {},
   "outputs": [
    {
     "name": "stderr",
     "output_type": "stream",
     "text": [
      "Warning message:\n",
      "\"Grouping rowwise data frame strips rowwise nature\""
     ]
    },
    {
     "data": {
      "image/png": "[encoded data removed]",
      "text/plain": [
       "plot without title"
      ]
     },
     "metadata": {},
     "output_type": "display_data"
    }
   ],
   "source": [
    "compare_cvs(df_clean)"
   ]
  },
  {
   "cell_type": "markdown",
   "metadata": {},
   "source": [
    "Interesting! The overlapping strategies only seem to noticeably change the coefficient of variation when the fraction of overlap reaches $0.3$ or so -- and really balloons at the right edge!"
   ]
  },
  {
   "cell_type": "markdown",
   "metadata": {},
   "source": [
    "# Conclusion\n",
    "\n",
    "This second look was certainly rewarding. We:\n",
    "\n",
    "1. determined the equivalence classes of all different subsequences (depending on the value of $p$), \n",
    "2. used the coefficient of variation to derive the form of $\\sigma(n)$ without deriving it from first principles for arbitrary $k$,\n",
    "3. discussed the importance of having a fine enough resolution in one's simulations when estimating small values,\n",
    "4. noted how the variance (or, more specifically, the coefficient of variation) changes in response to subsequence overlap.\n",
    "\n",
    "That sounds like a wrap!\n",
    "\n",
    "\\- DK, 7/17/19"
   ]
  }
 ],
 "metadata": {
  "kernelspec": {
   "display_name": "R [conda env:r_env]",
   "language": "R",
   "name": "conda-env-r_env-r"
  },
  "language_info": {
   "codemirror_mode": "r",
   "file_extension": ".r",
   "mimetype": "text/x-r-source",
   "name": "R",
   "pygments_lexer": "r",
   "version": "3.6.0"
  }
 },
 "nbformat": 4,
 "nbformat_minor": 2
}
