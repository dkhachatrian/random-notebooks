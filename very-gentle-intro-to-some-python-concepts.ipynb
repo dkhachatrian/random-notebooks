{
 "cells": [
  {
   "cell_type": "markdown",
   "metadata": {},
   "source": [
    "Written on 15 March 2018 to facilitate tutoring a high school student in some basic computer science principles. (It helped! :) )"
   ]
  },
  {
   "cell_type": "code",
   "execution_count": 1,
   "metadata": {},
   "outputs": [
    {
     "name": "stdout",
     "output_type": "stream",
     "text": [
      "hello!\n"
     ]
    }
   ],
   "source": [
    "##############\n",
    "## Comments ##\n",
    "##############\n",
    "\n",
    "# This is a comment\n",
    "# You can tell it's a comment because the first non-whitespace character is a '#'\n",
    "    # you can have whitespace to the left of your comments\n",
    "print('hello!') # you can even have code!\n",
    "    # (note: you'll notice some parenthesis around the 'hello'. We'll get back to that)\n",
    "# comments are (for the most part) ignored by the program running your code\n",
    "# it's used to help annotate code in a human language or with useful hints\n",
    "# (because code can get really confusing)"
   ]
  },
  {
   "cell_type": "code",
   "execution_count": 2,
   "metadata": {},
   "outputs": [
    {
     "name": "stdout",
     "output_type": "stream",
     "text": [
      "Hi there\n"
     ]
    }
   ],
   "source": [
    "#################\n",
    "## Variables and the Assignment Operator\n",
    "#################\n",
    "\n",
    "# It's nice not to have to repeat oneself over and over again\n",
    "# We can store values into variables to save us (and the computer) the time\n",
    "# it would take to retype something or redo a process\n",
    "foo = \"Hi there\"\n",
    "# Above, we have just performed an assignment using the assignment operator ('=')\n",
    "# You can think of the assignment operator like an arrow that points from right to left\n",
    "# so something like\n",
    "# foo <- \"Hi there\"\n",
    "# so what the earlier line did is\n",
    "# assign the value \"Hi there\" (a string) to a variable, which we've named foo\n",
    "# now we can use that variable elsewhere, say, to print something\n",
    "print(foo)"
   ]
  },
  {
   "cell_type": "code",
   "execution_count": 3,
   "metadata": {},
   "outputs": [
    {
     "name": "stdout",
     "output_type": "stream",
     "text": [
      "foo\n"
     ]
    }
   ],
   "source": [
    "# Note that there's a difference between foo (a variable) and 'foo' (the literal string of characters that spell \"foo\")\n",
    "# see below\n",
    "print('foo')"
   ]
  },
  {
   "cell_type": "code",
   "execution_count": 4,
   "metadata": {},
   "outputs": [
    {
     "data": {
      "text/plain": [
       "str"
      ]
     },
     "execution_count": 4,
     "metadata": {},
     "output_type": "execute_result"
    }
   ],
   "source": [
    "# you can check the types of variables\n",
    "type(foo)"
   ]
  },
  {
   "cell_type": "code",
   "execution_count": 5,
   "metadata": {},
   "outputs": [
    {
     "ename": "SyntaxError",
     "evalue": "can't assign to literal (<ipython-input-5-9b1baf1377b8>, line 3)",
     "output_type": "error",
     "traceback": [
      "\u001b[1;36m  File \u001b[1;32m\"<ipython-input-5-9b1baf1377b8>\"\u001b[1;36m, line \u001b[1;32m3\u001b[0m\n\u001b[1;33m    \"Hi there\" = foo\u001b[0m\n\u001b[1;37m                    ^\u001b[0m\n\u001b[1;31mSyntaxError\u001b[0m\u001b[1;31m:\u001b[0m can't assign to literal\n"
     ]
    }
   ],
   "source": [
    "# Note also that we cannot flip the order of the assignment\n",
    "# the (invisible) arrow only goes one way\n",
    "\"Hi there\" = foo"
   ]
  },
  {
   "cell_type": "code",
   "execution_count": 6,
   "metadata": {},
   "outputs": [
    {
     "data": {
      "text/plain": [
       "60"
      ]
     },
     "execution_count": 6,
     "metadata": {},
     "output_type": "execute_result"
    }
   ],
   "source": [
    "##################\n",
    "## Calling Functions\n",
    "##################\n",
    "\n",
    "# say we want to calculate some function for different values,\n",
    "# like f(x) = 3*x + 54\n",
    "# for the values 1, 2, and 3\n",
    "# it'd pretty annoying to do them all individually\n",
    "nums = [3*1 + 54, 3*2 + 54, 3*3 + 54] # (nums is a list, basically a convenient collection of elements)\n",
    "# and imagine if we wanted to calculate more values, and we decide to change the function to 5*x - 33\n",
    "# that'd be a pain to change!\n",
    "# there's a way to save us some time and headache: creating our own function\n",
    "\n",
    "def f(x):\n",
    "    return 3*x + 54\n",
    "\n",
    "# what we've just done is created a new function\n",
    "# its name is f\n",
    "# every function has a set of parenthesis next to it that indicate the number of \"arguments\" or \"parameters\" it takes in\n",
    "# in this case, the function f takes in one variable\n",
    "# (which, in the function itself, is referred to as x. The variable we pass in doesn't have to be named x though)\n",
    "# now we can just pass in a variable to the function and get our result without typing so much!\n",
    "f(2)"
   ]
  },
  {
   "cell_type": "code",
   "execution_count": 7,
   "metadata": {},
   "outputs": [
    {
     "name": "stdout",
     "output_type": "stream",
     "text": [
      "180\n"
     ]
    }
   ],
   "source": [
    "# above, we \"called\" the function f\n",
    "# we \"passed in\" one \"argument\", the number 2\n",
    "# the function gave a \"return value\" of 60 (and by default, the program showed this last output)\n",
    "# we can save the return value in a variable\n",
    "res = f(2)\n",
    "# and use it elsewhere\n",
    "print(res*3)"
   ]
  },
  {
   "cell_type": "code",
   "execution_count": 8,
   "metadata": {},
   "outputs": [
    {
     "name": "stdout",
     "output_type": "stream",
     "text": [
      "Hello!\n"
     ]
    }
   ],
   "source": [
    "# not all functions accept arguments.\n",
    "# You *still* need to put parenthesis next to the function name in its definition (the 'def' part) and when calling it\n",
    "def say_hi():\n",
    "    print(\"Hello!\")\n",
    "    return\n",
    "\n",
    "say_hi()"
   ]
  },
  {
   "cell_type": "code",
   "execution_count": 9,
   "metadata": {},
   "outputs": [
    {
     "ename": "SyntaxError",
     "evalue": "invalid syntax (<ipython-input-9-9b5a3962bd34>, line 2)",
     "output_type": "error",
     "traceback": [
      "\u001b[1;36m  File \u001b[1;32m\"<ipython-input-9-9b5a3962bd34>\"\u001b[1;36m, line \u001b[1;32m2\u001b[0m\n\u001b[1;33m    def bad_func:\u001b[0m\n\u001b[1;37m                ^\u001b[0m\n\u001b[1;31mSyntaxError\u001b[0m\u001b[1;31m:\u001b[0m invalid syntax\n"
     ]
    }
   ],
   "source": [
    "# if you don't put the parenthesis in the definition, it gets angry:\n",
    "def bad_func:\n",
    "    print(\"boo\")\n",
    "    return"
   ]
  },
  {
   "cell_type": "code",
   "execution_count": 10,
   "metadata": {},
   "outputs": [
    {
     "data": {
      "text/plain": [
       "<function __main__.say_hi>"
      ]
     },
     "execution_count": 10,
     "metadata": {},
     "output_type": "execute_result"
    }
   ],
   "source": [
    "# and if you don't put the parenthesis when calling it, you get something weird-looking\n",
    "# (which we needn't worry about right now)\n",
    "say_hi"
   ]
  },
  {
   "cell_type": "code",
   "execution_count": 11,
   "metadata": {},
   "outputs": [
    {
     "ename": "TypeError",
     "evalue": "print_evens() takes 1 positional argument but 8 were given",
     "output_type": "error",
     "traceback": [
      "\u001b[1;31m---------------------------------------------------------------------------\u001b[0m",
      "\u001b[1;31mTypeError\u001b[0m                                 Traceback (most recent call last)",
      "\u001b[1;32m<ipython-input-11-194aa080f3fd>\u001b[0m in \u001b[0;36m<module>\u001b[1;34m()\u001b[0m\n\u001b[0;32m      8\u001b[0m \u001b[0mnums\u001b[0m \u001b[1;33m=\u001b[0m \u001b[1;33m[\u001b[0m\u001b[1;36m1\u001b[0m\u001b[1;33m,\u001b[0m\u001b[1;36m2\u001b[0m\u001b[1;33m,\u001b[0m\u001b[1;36m3\u001b[0m\u001b[1;33m,\u001b[0m\u001b[1;36m7\u001b[0m\u001b[1;33m,\u001b[0m\u001b[1;36m5\u001b[0m\u001b[1;33m,\u001b[0m\u001b[1;36m9\u001b[0m\u001b[1;33m,\u001b[0m\u001b[1;36m10\u001b[0m\u001b[1;33m,\u001b[0m\u001b[1;33m-\u001b[0m\u001b[1;36m2\u001b[0m\u001b[1;33m]\u001b[0m\u001b[1;33m\u001b[0m\u001b[0m\n\u001b[0;32m      9\u001b[0m \u001b[1;31m# you can't pass the numbers in individually\u001b[0m\u001b[1;33m\u001b[0m\u001b[1;33m\u001b[0m\u001b[0m\n\u001b[1;32m---> 10\u001b[1;33m \u001b[0mprint_evens\u001b[0m\u001b[1;33m(\u001b[0m\u001b[1;36m1\u001b[0m\u001b[1;33m,\u001b[0m\u001b[1;36m2\u001b[0m\u001b[1;33m,\u001b[0m\u001b[1;36m3\u001b[0m\u001b[1;33m,\u001b[0m\u001b[1;36m7\u001b[0m\u001b[1;33m,\u001b[0m\u001b[1;36m5\u001b[0m\u001b[1;33m,\u001b[0m\u001b[1;36m9\u001b[0m\u001b[1;33m,\u001b[0m\u001b[1;36m10\u001b[0m\u001b[1;33m,\u001b[0m\u001b[1;33m-\u001b[0m\u001b[1;36m2\u001b[0m\u001b[1;33m)\u001b[0m \u001b[1;31m# you've passed in 8 arguments when it only expects 1!\u001b[0m\u001b[1;33m\u001b[0m\u001b[0m\n\u001b[0m",
      "\u001b[1;31mTypeError\u001b[0m: print_evens() takes 1 positional argument but 8 were given"
     ]
    }
   ],
   "source": [
    "# an important thing is that a collection of items is considered one argument when passed into a function\n",
    "# for example, let's make another list of numbers and pass it into a new function\n",
    "\n",
    "def print_evens(l):\n",
    "    print([e for e in l if e%2 == 0])\n",
    "    return\n",
    "\n",
    "nums = [1,2,3,7,5,9,10,-2]\n",
    "# you can't pass the numbers in individually\n",
    "print_evens(1,2,3,7,5,9,10,-2) # you've passed in 8 arguments when it only expects 1!"
   ]
  },
  {
   "cell_type": "code",
   "execution_count": 12,
   "metadata": {},
   "outputs": [
    {
     "name": "stdout",
     "output_type": "stream",
     "text": [
      "[2, 10, -2]\n",
      "[16, 22]\n"
     ]
    }
   ],
   "source": [
    "# the list (or a tuple) is considered a single argument\n",
    "tup = (1,16,33,22)\n",
    "\n",
    "print_evens(nums)\n",
    "print_evens(tup)"
   ]
  },
  {
   "cell_type": "code",
   "execution_count": 13,
   "metadata": {},
   "outputs": [
    {
     "data": {
      "text/plain": [
       "41"
      ]
     },
     "execution_count": 13,
     "metadata": {},
     "output_type": "execute_result"
    }
   ],
   "source": [
    "##############\n",
    "## Modules and how to use them\n",
    "#############\n",
    "\n",
    "# now, it's kind of a pain typing everything from scratch every time\n",
    "# some seemingly simple tasks take thousands of lines of code!\n",
    "# why reinvent the wheel when you can use someone else's? (that they've graciously shared with the world)\n",
    "# that's what we're doing when we use modules\n",
    "# (it can also help keep your own code clean and structured into, well, modules that perform certain tasks)\n",
    "# you import a module with, well, the 'import' keyword\n",
    "# let's say we want to use a random number somewhere\n",
    "# surprisingly, it's hard to make a function ourselves that can do that\n",
    "# but instead we can import a module\n",
    "import random\n",
    "# and from there, use a function\n",
    "random.randint(1, 100)\n",
    "# above, we can see that we've used a dot operator ('.')\n",
    "# this says \"look into the thing on the left (in this case, the thing currently named random)\n",
    "# \"when trying to find the thing on the right (in this case, a function called randint)\"\n"
   ]
  },
  {
   "cell_type": "code",
   "execution_count": 14,
   "metadata": {},
   "outputs": [
    {
     "ename": "NameError",
     "evalue": "name 'randint' is not defined",
     "output_type": "error",
     "traceback": [
      "\u001b[1;31m---------------------------------------------------------------------------\u001b[0m",
      "\u001b[1;31mNameError\u001b[0m                                 Traceback (most recent call last)",
      "\u001b[1;32m<ipython-input-14-ba8cec7779b1>\u001b[0m in \u001b[0;36m<module>\u001b[1;34m()\u001b[0m\n\u001b[0;32m      1\u001b[0m \u001b[1;31m# the program will have no idea what I'm talking about if I don't put the 'random.' in the front\u001b[0m\u001b[1;33m\u001b[0m\u001b[1;33m\u001b[0m\u001b[0m\n\u001b[0;32m      2\u001b[0m \u001b[1;31m# because we haven't defined a function named randint that takes two arguments\u001b[0m\u001b[1;33m\u001b[0m\u001b[1;33m\u001b[0m\u001b[0m\n\u001b[1;32m----> 3\u001b[1;33m \u001b[0mrandint\u001b[0m\u001b[1;33m(\u001b[0m\u001b[1;36m1\u001b[0m\u001b[1;33m,\u001b[0m\u001b[1;36m100\u001b[0m\u001b[1;33m)\u001b[0m\u001b[1;33m\u001b[0m\u001b[0m\n\u001b[0m",
      "\u001b[1;31mNameError\u001b[0m: name 'randint' is not defined"
     ]
    }
   ],
   "source": [
    "# the program will have no idea what I'm talking about if I don't put the 'random.' in the front\n",
    "# because we haven't defined a function named randint that takes two arguments\n",
    "randint(1,100)"
   ]
  },
  {
   "cell_type": "code",
   "execution_count": 15,
   "metadata": {},
   "outputs": [
    {
     "ename": "TypeError",
     "evalue": "randint() takes 1 positional argument but 2 were given",
     "output_type": "error",
     "traceback": [
      "\u001b[1;31m---------------------------------------------------------------------------\u001b[0m",
      "\u001b[1;31mTypeError\u001b[0m                                 Traceback (most recent call last)",
      "\u001b[1;32m<ipython-input-15-dc025b7e32bc>\u001b[0m in \u001b[0;36m<module>\u001b[1;34m()\u001b[0m\n\u001b[0;32m      2\u001b[0m \u001b[1;32mdef\u001b[0m \u001b[0mrandint\u001b[0m\u001b[1;33m(\u001b[0m\u001b[0mx\u001b[0m\u001b[1;33m)\u001b[0m\u001b[1;33m:\u001b[0m\u001b[1;33m\u001b[0m\u001b[0m\n\u001b[0;32m      3\u001b[0m     \u001b[1;32mreturn\u001b[0m \u001b[0mx\u001b[0m\u001b[1;33m**\u001b[0m\u001b[1;36m2\u001b[0m \u001b[1;31m# not all that random...\u001b[0m\u001b[1;33m\u001b[0m\u001b[0m\n\u001b[1;32m----> 4\u001b[1;33m \u001b[0mrandint\u001b[0m\u001b[1;33m(\u001b[0m\u001b[1;36m1\u001b[0m\u001b[1;33m,\u001b[0m\u001b[1;36m100\u001b[0m\u001b[1;33m)\u001b[0m\u001b[1;33m\u001b[0m\u001b[0m\n\u001b[0m",
      "\u001b[1;31mTypeError\u001b[0m: randint() takes 1 positional argument but 2 were given"
     ]
    }
   ],
   "source": [
    "# even if we have a function named randint, if it only takes one variable, we'd be in trouble\n",
    "def randint(x):\n",
    "    return x**2 # not all that random...\n",
    "randint(1,100)"
   ]
  },
  {
   "cell_type": "code",
   "execution_count": 16,
   "metadata": {
    "scrolled": true
   },
   "outputs": [
    {
     "ename": "NameError",
     "evalue": "name 'please_find_my_function' is not defined",
     "output_type": "error",
     "traceback": [
      "\u001b[1;31m---------------------------------------------------------------------------\u001b[0m",
      "\u001b[1;31mNameError\u001b[0m                                 Traceback (most recent call last)",
      "\u001b[1;32m<ipython-input-16-682979076eef>\u001b[0m in \u001b[0;36m<module>\u001b[1;34m()\u001b[0m\n\u001b[0;32m      1\u001b[0m \u001b[1;31m# we can't just put anything next to the left of the dot operator either\u001b[0m\u001b[1;33m\u001b[0m\u001b[1;33m\u001b[0m\u001b[0m\n\u001b[1;32m----> 2\u001b[1;33m \u001b[0mplease_find_my_function\u001b[0m\u001b[1;33m.\u001b[0m\u001b[0mrandint\u001b[0m\u001b[1;33m(\u001b[0m\u001b[1;36m1\u001b[0m\u001b[1;33m,\u001b[0m\u001b[1;36m100\u001b[0m\u001b[1;33m)\u001b[0m\u001b[1;33m\u001b[0m\u001b[0m\n\u001b[0m",
      "\u001b[1;31mNameError\u001b[0m: name 'please_find_my_function' is not defined"
     ]
    }
   ],
   "source": [
    "# we can't just put anything next to the left of the dot operator either\n",
    "please_find_my_function.randint(1,100)"
   ]
  },
  {
   "cell_type": "code",
   "execution_count": 17,
   "metadata": {},
   "outputs": [],
   "source": [
    "# by using modules properly, you can do what you'd like more easily, quickly, and cleanly!"
   ]
  }
 ],
 "metadata": {
  "kernelspec": {
   "display_name": "Python 3",
   "language": "python",
   "name": "python3"
  },
  "language_info": {
   "codemirror_mode": {
    "name": "ipython",
    "version": 3
   },
   "file_extension": ".py",
   "mimetype": "text/x-python",
   "name": "python",
   "nbconvert_exporter": "python",
   "pygments_lexer": "ipython3",
   "version": "3.6.5"
  }
 },
 "nbformat": 4,
 "nbformat_minor": 2
}
