{
 "cells": [
  {
   "cell_type": "code",
   "execution_count": 2,
   "metadata": {
    "collapsed": true
   },
   "outputs": [],
   "source": [
    "# does ABC = CAB if all are n-dimensional?\n",
    "# what if B = transpose(A)?\n",
    "\n",
    "import numpy as np # get matrices\n"
   ]
  },
  {
   "cell_type": "code",
   "execution_count": 8,
   "metadata": {
    "collapsed": true
   },
   "outputs": [],
   "source": [
    "A = np.mat([1,2,3])\n",
    "B = np.mat([[4,5,6],[7,8,9],[10,11,12]])\n",
    "C = (np.mat([13,14,15])).T"
   ]
  },
  {
   "cell_type": "code",
   "execution_count": 15,
   "metadata": {
    "collapsed": false
   },
   "outputs": [
    {
     "name": "stdout",
     "output_type": "stream",
     "text": [
      "ABC = [[2280]]\n",
      "CAB = [[624 702 780]\n",
      " [672 756 840]\n",
      " [720 810 900]]\n",
      "BCA = [[ 212  424  636]\n",
      " [ 338  676 1014]\n",
      " [ 464  928 1392]]\n"
     ]
    }
   ],
   "source": [
    "print('ABC = {0}'.format(A*B*C))\n",
    "print('CAB = {0}'.format(C*A*B))\n",
    "print('BCA = {0}'.format(B*C*A))"
   ]
  },
  {
   "cell_type": "code",
   "execution_count": 16,
   "metadata": {
    "collapsed": true
   },
   "outputs": [],
   "source": [
    "# now let's have C = A_T\n",
    "\n",
    "At = A.T"
   ]
  },
  {
   "cell_type": "code",
   "execution_count": 17,
   "metadata": {
    "collapsed": false
   },
   "outputs": [
    {
     "name": "stdout",
     "output_type": "stream",
     "text": [
      "ABA' = [[336]]\n",
      "A'AB = [[ 48  54  60]\n",
      " [ 96 108 120]\n",
      " [144 162 180]]\n",
      "BA'A' = [[ 32  64  96]\n",
      " [ 50 100 150]\n",
      " [ 68 136 204]]\n"
     ]
    }
   ],
   "source": [
    "print(\"ABA' = {0}\".format(A*B*At))\n",
    "print(\"A'AB = {0}\".format(At*A*B))\n",
    "print(\"BA'A' = {0}\".format(B*At*A))"
   ]
  },
  {
   "cell_type": "code",
   "execution_count": null,
   "metadata": {
    "collapsed": true
   },
   "outputs": [],
   "source": [
    "# so the answer is \"no silly the dimensions don't even match\"\n",
    "# The multivariate Gaussian likely takes the form (x-u)^T * (cov^-1) * (x-u) to form a scalar\n",
    "# as the function itself maps to R"
   ]
  }
 ],
 "metadata": {
  "kernelspec": {
   "display_name": "Python 3",
   "language": "python",
   "name": "python3"
  },
  "language_info": {
   "codemirror_mode": {
    "name": "ipython",
    "version": 3
   },
   "file_extension": ".py",
   "mimetype": "text/x-python",
   "name": "python",
   "nbconvert_exporter": "python",
   "pygments_lexer": "ipython3",
   "version": "3.5.1"
  }
 },
 "nbformat": 4,
 "nbformat_minor": 0
}
